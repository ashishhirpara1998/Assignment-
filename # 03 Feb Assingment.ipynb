{
 "cells": [
  {
   "cell_type": "code",
   "execution_count": null,
   "id": "c8858a00-72b6-4839-bda5-58d0eb4bf5e2",
   "metadata": {},
   "outputs": [],
   "source": [
    "Q.1\n",
    "The def keyword is used to create a function"
   ]
  },
  {
   "cell_type": "code",
   "execution_count": null,
   "id": "3d53112e-7aca-468e-ba9f-4409671fef10",
   "metadata": {},
   "outputs": [],
   "source": [
    "number=list(range(0,26))\n",
    "def odd_num(l):\n",
    "    odd_number=[]\n",
    "    for i in l:\n",
    "        if i%2 !=0:\n",
    "            odd_number.append(i)\n",
    "    return odd_number\n",
    "odd_num(number)"
   ]
  },
  {
   "cell_type": "code",
   "execution_count": null,
   "id": "30f59fd3-55e6-4d1a-9b60-00a2f9c43f2c",
   "metadata": {},
   "outputs": [],
   "source": []
  },
  {
   "cell_type": "code",
   "execution_count": null,
   "id": "cd982610-b861-4928-b20d-72510ac8815e",
   "metadata": {},
   "outputs": [],
   "source": [
    "Q.2\n",
    "We use *args and **kwargs as an argument when we are unsure about the number of\n",
    "argument to pass in the functions."
   ]
  },
  {
   "cell_type": "code",
   "execution_count": null,
   "id": "43ac04ba-1da2-421c-b1cc-ae4e674c2f8f",
   "metadata": {},
   "outputs": [],
   "source": [
    "def test(*args):\n",
    "    return args\n",
    "print(test(1,2,3,4))"
   ]
  },
  {
   "cell_type": "code",
   "execution_count": null,
   "id": "3710c462-41ba-4780-bebc-1982ba7d6f41",
   "metadata": {},
   "outputs": [],
   "source": [
    "def test1(**kwargs):\n",
    "    return kwargs\n",
    "test15(a=[1,2,3,4,5],b=['pwskills','data_science'])"
   ]
  },
  {
   "cell_type": "code",
   "execution_count": null,
   "id": "8a6814c8-45a7-4f81-a4e6-d08e66fbf90f",
   "metadata": {},
   "outputs": [],
   "source": []
  },
  {
   "cell_type": "code",
   "execution_count": null,
   "id": "6a8980be-50d8-4fbf-be6d-6105a8ec4c6c",
   "metadata": {},
   "outputs": [],
   "source": [
    "Q.3\n",
    "An iterator is an object that contains a countable number of values. \n",
    "An iterator is an object that can be iterated upon, meaning that you can traverse through all the values.\n",
    "-The iterator object is initialized using the iter() method. It uses the next() method for iteration.\n"
   ]
  },
  {
   "cell_type": "code",
   "execution_count": 2,
   "id": "36bd0569-6a01-42ad-9da2-88c36c70c68e",
   "metadata": {},
   "outputs": [
    {
     "data": {
      "text/plain": [
       "2"
      ]
     },
     "execution_count": 2,
     "metadata": {},
     "output_type": "execute_result"
    }
   ],
   "source": [
    "l=[2,4,6,8,10,12,14,16,18,20]\n",
    "l1=iter(l)\n",
    "next(l1)"
   ]
  },
  {
   "cell_type": "code",
   "execution_count": 3,
   "id": "9f94596e-fd02-4d10-ad92-a0f2f4c8d48f",
   "metadata": {},
   "outputs": [
    {
     "data": {
      "text/plain": [
       "4"
      ]
     },
     "execution_count": 3,
     "metadata": {},
     "output_type": "execute_result"
    }
   ],
   "source": [
    "next(l1)"
   ]
  },
  {
   "cell_type": "code",
   "execution_count": 4,
   "id": "e5841254-1320-409c-a0de-5887faa114a5",
   "metadata": {},
   "outputs": [
    {
     "data": {
      "text/plain": [
       "6"
      ]
     },
     "execution_count": 4,
     "metadata": {},
     "output_type": "execute_result"
    }
   ],
   "source": [
    "next(l1)"
   ]
  },
  {
   "cell_type": "code",
   "execution_count": 5,
   "id": "1aa0dcaa-3b12-4329-9a7a-39642c1369f0",
   "metadata": {},
   "outputs": [
    {
     "data": {
      "text/plain": [
       "8"
      ]
     },
     "execution_count": 5,
     "metadata": {},
     "output_type": "execute_result"
    }
   ],
   "source": [
    "next(l1)"
   ]
  },
  {
   "cell_type": "code",
   "execution_count": 6,
   "id": "4f0675ad-4bcb-4375-bc89-59e051c73684",
   "metadata": {},
   "outputs": [
    {
     "data": {
      "text/plain": [
       "10"
      ]
     },
     "execution_count": 6,
     "metadata": {},
     "output_type": "execute_result"
    }
   ],
   "source": [
    "next(l1)"
   ]
  },
  {
   "cell_type": "code",
   "execution_count": null,
   "id": "8e18d793-db91-43c6-be99-06afac9203ec",
   "metadata": {},
   "outputs": [],
   "source": []
  },
  {
   "cell_type": "code",
   "execution_count": null,
   "id": "828fa058-8f3b-4334-b603-ef1fbe78c8f4",
   "metadata": {},
   "outputs": [],
   "source": [
    "Q.4\n",
    "In Python, a generator is a function that returns an iterator that produces a sequence of values when iterated over.\n",
    "-yield keyword is used to create a generator function. A type of function that is memory efficient and can be used like an iterator object."
   ]
  },
  {
   "cell_type": "code",
   "execution_count": 4,
   "id": "e4b70335-f0ec-4777-9d9b-d550d64b2aa4",
   "metadata": {},
   "outputs": [
    {
     "name": "stdout",
     "output_type": "stream",
     "text": [
      "1\n",
      "2\n",
      "3\n",
      "4\n"
     ]
    }
   ],
   "source": [
    "def count_test(n):\n",
    "    count=1\n",
    "    while count<n:\n",
    "        yield count\n",
    "        count=count+1\n",
    "for count in count_test(5):\n",
    "    print(count)"
   ]
  },
  {
   "cell_type": "code",
   "execution_count": null,
   "id": "7523a89f-520d-43db-a92b-eaba001dfd8b",
   "metadata": {},
   "outputs": [],
   "source": []
  },
  {
   "cell_type": "code",
   "execution_count": 12,
   "id": "05f0a2df-75f8-456f-9735-4aeb70d2e644",
   "metadata": {},
   "outputs": [],
   "source": [
    "Q.5"
   ]
  },
  {
   "cell_type": "code",
   "execution_count": 11,
   "id": "7bfd1aa4-5405-4b73-8936-cb2f1ee64b3b",
   "metadata": {},
   "outputs": [],
   "source": [
    "def prime_number(n):\n",
    "\n",
    "    for num in range(1,1001):\n",
    "        if num > 1:\n",
    "            for i in range(2,num):\n",
    "                if (num % i) == 0:\n",
    "                    break\n",
    "            else:\n",
    "                yield num\n"
   ]
  },
  {
   "cell_type": "code",
   "execution_count": 19,
   "id": "99ad6602-2240-4787-abe7-6ad10505bf99",
   "metadata": {},
   "outputs": [
    {
     "name": "stdout",
     "output_type": "stream",
     "text": [
      "2\n",
      "3\n",
      "5\n",
      "7\n",
      "11\n",
      "13\n",
      "17\n",
      "19\n",
      "23\n",
      "29\n",
      "31\n",
      "37\n",
      "41\n",
      "43\n",
      "47\n",
      "53\n",
      "59\n",
      "61\n",
      "67\n",
      "71\n",
      "73\n",
      "79\n",
      "83\n",
      "89\n",
      "97\n",
      "101\n",
      "103\n",
      "107\n",
      "109\n",
      "113\n",
      "127\n",
      "131\n",
      "137\n",
      "139\n",
      "149\n",
      "151\n",
      "157\n",
      "163\n",
      "167\n",
      "173\n",
      "179\n",
      "181\n",
      "191\n",
      "193\n",
      "197\n",
      "199\n",
      "211\n",
      "223\n",
      "227\n",
      "229\n",
      "233\n",
      "239\n",
      "241\n",
      "251\n",
      "257\n",
      "263\n",
      "269\n",
      "271\n",
      "277\n",
      "281\n",
      "283\n",
      "293\n",
      "307\n",
      "311\n",
      "313\n",
      "317\n",
      "331\n",
      "337\n",
      "347\n",
      "349\n",
      "353\n",
      "359\n",
      "367\n",
      "373\n",
      "379\n",
      "383\n",
      "389\n",
      "397\n",
      "401\n",
      "409\n",
      "419\n",
      "421\n",
      "431\n",
      "433\n",
      "439\n",
      "443\n",
      "449\n",
      "457\n",
      "461\n",
      "463\n",
      "467\n",
      "479\n",
      "487\n",
      "491\n",
      "499\n",
      "503\n",
      "509\n",
      "521\n",
      "523\n",
      "541\n",
      "547\n",
      "557\n",
      "563\n",
      "569\n",
      "571\n",
      "577\n",
      "587\n",
      "593\n",
      "599\n",
      "601\n",
      "607\n",
      "613\n",
      "617\n",
      "619\n",
      "631\n",
      "641\n",
      "643\n",
      "647\n",
      "653\n",
      "659\n",
      "661\n",
      "673\n",
      "677\n",
      "683\n",
      "691\n",
      "701\n",
      "709\n",
      "719\n",
      "727\n",
      "733\n",
      "739\n",
      "743\n",
      "751\n",
      "757\n",
      "761\n",
      "769\n",
      "773\n",
      "787\n",
      "797\n",
      "809\n",
      "811\n",
      "821\n",
      "823\n",
      "827\n",
      "829\n",
      "839\n",
      "853\n",
      "857\n",
      "859\n",
      "863\n",
      "877\n",
      "881\n",
      "883\n",
      "887\n",
      "907\n",
      "911\n",
      "919\n",
      "929\n",
      "937\n",
      "941\n",
      "947\n",
      "953\n",
      "967\n",
      "971\n",
      "977\n",
      "983\n",
      "991\n",
      "997\n"
     ]
    }
   ],
   "source": [
    "for i in prime_number(1001):\n",
    "    print(i)"
   ]
  },
  {
   "cell_type": "code",
   "execution_count": 15,
   "id": "1c319db3-af05-4a49-b8bc-8bb96d1c8d0a",
   "metadata": {},
   "outputs": [],
   "source": [
    "prime=iter(prime_number(i))"
   ]
  },
  {
   "cell_type": "code",
   "execution_count": 16,
   "id": "7c596357-c00c-47e1-ae20-397e08fa0f3f",
   "metadata": {},
   "outputs": [
    {
     "data": {
      "text/plain": [
       "2"
      ]
     },
     "execution_count": 16,
     "metadata": {},
     "output_type": "execute_result"
    }
   ],
   "source": [
    "next(prime)"
   ]
  },
  {
   "cell_type": "code",
   "execution_count": 17,
   "id": "4c9a185f-87bf-4881-945a-5f90e9e8daaa",
   "metadata": {},
   "outputs": [
    {
     "data": {
      "text/plain": [
       "3"
      ]
     },
     "execution_count": 17,
     "metadata": {},
     "output_type": "execute_result"
    }
   ],
   "source": [
    "next(prime)"
   ]
  },
  {
   "cell_type": "code",
   "execution_count": null,
   "id": "2d9b7885-61ba-4546-a7b9-9b284c59d6eb",
   "metadata": {},
   "outputs": [],
   "source": []
  },
  {
   "cell_type": "code",
   "execution_count": null,
   "id": "37f98c4e-bdad-4509-bff8-2da14684f103",
   "metadata": {},
   "outputs": [],
   "source": [
    "Q.6"
   ]
  },
  {
   "cell_type": "code",
   "execution_count": 14,
   "id": "81ed6529-ee3c-499f-8b7a-578746cd66f2",
   "metadata": {},
   "outputs": [
    {
     "name": "stdin",
     "output_type": "stream",
     "text": [
      "enter number 10\n"
     ]
    },
    {
     "name": "stdout",
     "output_type": "stream",
     "text": [
      "0\n",
      "1\n",
      "1\n",
      "2\n",
      "3\n",
      "5\n",
      "8\n",
      "13\n",
      "21\n",
      "34\n"
     ]
    }
   ],
   "source": [
    "num=int(input(\"enter number\"))\n",
    "a,b=0,1\n",
    "counter=0\n",
    "while counter<num:\n",
    "    print(a)\n",
    "    c=a+b\n",
    "    a=b\n",
    "    b=c\n",
    "    counter=counter+1"
   ]
  },
  {
   "cell_type": "code",
   "execution_count": null,
   "id": "214e24c5-fe97-48cc-92e0-eed62f3f331a",
   "metadata": {},
   "outputs": [],
   "source": [
    "Q.7"
   ]
  },
  {
   "cell_type": "code",
   "execution_count": 15,
   "id": "cabbdce2-2949-4abe-bc17-71764babf522",
   "metadata": {},
   "outputs": [
    {
     "data": {
      "text/plain": [
       "['P', 'W', 'S', 'K', 'I', 'L', 'L']"
      ]
     },
     "execution_count": 15,
     "metadata": {},
     "output_type": "execute_result"
    }
   ],
   "source": [
    "s=\"pwskill\"\n",
    "[i.upper() for i in s]"
   ]
  },
  {
   "cell_type": "code",
   "execution_count": null,
   "id": "32b685ac-39f3-42fe-88f6-13b0f84859bf",
   "metadata": {},
   "outputs": [],
   "source": [
    "Q.8"
   ]
  },
  {
   "cell_type": "code",
   "execution_count": null,
   "id": "efa1da44-c14a-4847-bee7-7b258564f183",
   "metadata": {},
   "outputs": [],
   "source": [
    "number=int(input(\"Enter your number\"))\n",
    "temp=number\n",
    "reverse=0\n",
    "while(number>0):\n",
    "    dig=number%10\n",
    "    reverse=reverse*10+dig\n",
    "    number=number//10\n",
    "if temp==reverse:\n",
    "    print(\"Number is a Palindrom\")\n",
    "else:\n",
    "    print(\"Number is not Pelindrom\")"
   ]
  },
  {
   "cell_type": "code",
   "execution_count": null,
   "id": "54a4b0ea-0930-4f7d-bb6b-1e8fbfab2767",
   "metadata": {},
   "outputs": [],
   "source": []
  },
  {
   "cell_type": "code",
   "execution_count": null,
   "id": "524c5961-57e3-4562-a0b9-d892cdf74792",
   "metadata": {},
   "outputs": [],
   "source": [
    "Q.9"
   ]
  },
  {
   "cell_type": "code",
   "execution_count": 16,
   "id": "4369c129-029e-4c64-85ae-b720af667f1a",
   "metadata": {},
   "outputs": [
    {
     "data": {
      "text/plain": [
       "[1,\n",
       " 3,\n",
       " 5,\n",
       " 7,\n",
       " 9,\n",
       " 11,\n",
       " 13,\n",
       " 15,\n",
       " 17,\n",
       " 19,\n",
       " 21,\n",
       " 23,\n",
       " 25,\n",
       " 27,\n",
       " 29,\n",
       " 31,\n",
       " 33,\n",
       " 35,\n",
       " 37,\n",
       " 39,\n",
       " 41,\n",
       " 43,\n",
       " 45,\n",
       " 47,\n",
       " 49,\n",
       " 51,\n",
       " 53,\n",
       " 55,\n",
       " 57,\n",
       " 59,\n",
       " 61,\n",
       " 63,\n",
       " 65,\n",
       " 67,\n",
       " 69,\n",
       " 71,\n",
       " 73,\n",
       " 75,\n",
       " 77,\n",
       " 79,\n",
       " 81,\n",
       " 83,\n",
       " 85,\n",
       " 87,\n",
       " 89,\n",
       " 91,\n",
       " 93,\n",
       " 95,\n",
       " 97,\n",
       " 99]"
      ]
     },
     "execution_count": 16,
     "metadata": {},
     "output_type": "execute_result"
    }
   ],
   "source": [
    "s=range(0,100)\n",
    "[i for i in s if i%2!=0]"
   ]
  },
  {
   "cell_type": "code",
   "execution_count": null,
   "id": "1fcc9830-d937-4b4b-8e79-a8130e7bc19a",
   "metadata": {},
   "outputs": [],
   "source": []
  }
 ],
 "metadata": {
  "kernelspec": {
   "display_name": "Python 3 (ipykernel)",
   "language": "python",
   "name": "python3"
  },
  "language_info": {
   "codemirror_mode": {
    "name": "ipython",
    "version": 3
   },
   "file_extension": ".py",
   "mimetype": "text/x-python",
   "name": "python",
   "nbconvert_exporter": "python",
   "pygments_lexer": "ipython3",
   "version": "3.10.8"
  }
 },
 "nbformat": 4,
 "nbformat_minor": 5
}
