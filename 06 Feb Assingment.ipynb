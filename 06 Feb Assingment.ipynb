{
 "cells": [
  {
   "cell_type": "markdown",
   "id": "9920fd53-89b2-44f3-ae02-655a84b971ef",
   "metadata": {},
   "source": [
    "Q1. Create a function which will take a list as an argument and return the product of all the numbers\n",
    "after creating a flat list.\n",
    "Use the below-given list as an argument for your function.\n",
    "\n",
    "list1 = [1,2,3,4, [44,55,66, True], False, (34,56,78,89,34), {1,2,3,3,2,1}, {1:34, \"key2\": [55, 67, 78, 89], 4: (45,\n",
    "22, 61, 34)}, [56, 'data science'], 'Machine Learning']\n",
    "\n",
    "Note: you must extract numeric keys and values of the dictionary also."
   ]
  },
  {
   "cell_type": "code",
   "execution_count": 1,
   "id": "efc21572-56a4-4816-98d1-463332bca0c1",
   "metadata": {},
   "outputs": [
    {
     "name": "stdout",
     "output_type": "stream",
     "text": [
      "[1, 2, 3, 4, 44, 55, 66, 34, 56, 78, 89, 34, 1, 2, 3, 1, 4, 55, 67, 78, 89, 45, 22, 61, 34, 56]"
     ]
    }
   ],
   "source": [
    "list1 = [1,2,3,4, [44,55,66, True], False, (34,56,78,89,34), {1,2,3,3,2,1}, {1:34, \"key2\": [55, 67, 78, 89], 4: (45,\n",
    "22, 61, 34)}, [56, 'data science'], 'Machine Learning']\n",
    "def number_filter_function(l):\n",
    "    number=[]\n",
    "    for i in l:\n",
    "        if type(i)==list or type(i)==tuple or type(i)==set:\n",
    "            for j in i:\n",
    "                if type(j)==int:\n",
    "                    number.append(j)\n",
    "        elif type(i)==dict:\n",
    "            for k in i.keys():\n",
    "                if type(k)==int:\n",
    "                    number.append(k)\n",
    "            for v in i.values():\n",
    "                if type(v)==list:\n",
    "                    for r in v:\n",
    "                        if type(r)==int:\n",
    "                            number.append(r)\n",
    "                elif type(v)==tuple:\n",
    "                    for r in v:\n",
    "                        if type(r)==int:\n",
    "                            number.append(r)\n",
    "        elif type(i)==int:\n",
    "            number.append(i)\n",
    "    return number\n",
    "print(number_filter_function(list1),end=\"\")\n"
   ]
  },
  {
   "cell_type": "markdown",
   "id": "923efed2-77e4-4e60-9a17-f54cf757656f",
   "metadata": {},
   "source": [
    "Q2. Write a python program for encrypting a message sent to you by your friend. The logic of encryption\n",
    "should be such that, for a the output should be z. For b, the output should be y. For c, the output should\n",
    "be x respectively. Also, the whitespace should be replaced with a dollar sign. Keep the punctuation\n",
    "marks unchanged.\n",
    "\n",
    "Input Sentence: I want to become a Data Scientist.\n",
    "\n",
    "Encrypt the above input sentence using the program you just created.\n",
    "\n",
    "Note: Convert the given input sentence into lowercase before encrypting. The final output should be\n",
    "lowercase."
   ]
  },
  {
   "cell_type": "code",
   "execution_count": 2,
   "id": "c318d3f1-86b8-4a75-9cba-bab1ab4b24cf",
   "metadata": {},
   "outputs": [
    {
     "name": "stdout",
     "output_type": "stream",
     "text": [
      "i$ wznt$ to$ yexome$ z$ dztz$ sxientist.\n"
     ]
    }
   ],
   "source": [
    "message=\"I want to become a Data Scientist.\"\n",
    "encript_message=\"\"\n",
    "for i in message:\n",
    "    if i.isspace():\n",
    "        encript_message +='$'\n",
    "    if i=='a':\n",
    "        encript_message +='z'\n",
    "    elif i=='b':\n",
    "        encript_message +='y'\n",
    "    elif i=='c':\n",
    "        encript_message +='x'\n",
    "    else:\n",
    "        encript_message +=i\n",
    "print(encript_message.lower())\n"
   ]
  },
  {
   "cell_type": "code",
   "execution_count": null,
   "id": "3bd3fe89-4436-48f8-a8d9-405efefef2db",
   "metadata": {},
   "outputs": [],
   "source": []
  }
 ],
 "metadata": {
  "kernelspec": {
   "display_name": "Python 3 (ipykernel)",
   "language": "python",
   "name": "python3"
  },
  "language_info": {
   "codemirror_mode": {
    "name": "ipython",
    "version": 3
   },
   "file_extension": ".py",
   "mimetype": "text/x-python",
   "name": "python",
   "nbconvert_exporter": "python",
   "pygments_lexer": "ipython3",
   "version": "3.10.8"
  }
 },
 "nbformat": 4,
 "nbformat_minor": 5
}
