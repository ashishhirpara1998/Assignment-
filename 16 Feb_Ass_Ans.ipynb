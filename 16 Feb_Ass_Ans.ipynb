{
 "cells": [
  {
   "cell_type": "markdown",
   "id": "c17596f6-0d64-42a9-9fa6-c5db1963cab5",
   "metadata": {},
   "source": [
    "## Q1. What is a database? Differentiate between SQL and NoSQL databases."
   ]
  },
  {
   "cell_type": "markdown",
   "id": "b734bc4c-e475-40f1-8586-98b844e26cf6",
   "metadata": {},
   "source": [
    "A database is an organized collection of structured information, or data, typically stored electronically in a computer system. A database is usually controlled by a database management system (DBMS)."
   ]
  },
  {
   "cell_type": "markdown",
   "id": "20bd83a0-118d-4e85-a095-eddf79b20f64",
   "metadata": {},
   "source": [
    "The five critical differences between SQL and NoSQL are:\n",
    "\n",
    "1. SQL databases are relational, and NoSQL databases are non-relational.\n",
    "2. SQL databases use structured query language (SQL) and have a predefined schema. NoSQL databases have dynamic schemas for unstructured data.\n",
    "3. SQL databases are vertically scalable, while NoSQL databases are horizontally scalable.\n",
    "4. SQL databases are table-based, while NoSQL databases are document, key-value, graph, or wide-column stores.\n",
    "5. SQL databases are better for multi-row transactions, while NoSQL is better for unstructured data like documents or JSON."
   ]
  },
  {
   "cell_type": "markdown",
   "id": "8b934712-35e3-4468-a4e9-6963e59c617e",
   "metadata": {},
   "source": [
    "## Q2. What is DDL? Explain why CREATE, DROP, ALTER, and TRUNCATE are used with an example."
   ]
  },
  {
   "cell_type": "markdown",
   "id": "609294b6-8f7c-4aba-aae1-90eafea88256",
   "metadata": {},
   "source": [
    "DDL=Data Definition Language\n",
    "- The DDL Commands in Structured Query Language are used to create and modify the schema of the database and its objects. The syntax of DDL commands is predefined for describing the data. The commands of Data Definition Language deal with how the data should exist in the database."
   ]
  },
  {
   "cell_type": "markdown",
   "id": "890a2890-c165-4124-8ddc-1f2fe54838bd",
   "metadata": {},
   "source": [
    "(1). CREATE Command\n",
    "- CREATE is a DDL command used to create databases, tables, triggers and other database objects.\n",
    "\n",
    "for example\n",
    "- CREATE Database Database_Name; \n",
    "- CREATE TABLE table_name "
   ]
  },
  {
   "cell_type": "markdown",
   "id": "8bb5a7ad-2e3a-408a-96da-43d7148ec75b",
   "metadata": {},
   "source": [
    "(2). DROP Command\n",
    "- DROP is a DDL command used to delete/remove the database objects from the SQL database. We can easily remove the entire table, view, or index from the database using this DDL command.\n",
    "\n",
    "for example\n",
    "- DROP DATABASE Database_Name;  \n",
    "- DROP TABLE Table_Name;  \n",
    "- DROP INDEX Index_Name;  "
   ]
  },
  {
   "cell_type": "markdown",
   "id": "d216ec8a-e614-494c-bb8e-edaf1b055d61",
   "metadata": {},
   "source": [
    "(3). ALTER Command\n",
    "- ALTER is a DDL command which changes or modifies the existing structure of the database, and it also changes the schema of database objects.\n",
    "- We can also add and drop constraints of the table using the ALTER command.\n",
    "\n",
    "for example\n",
    "- ALTER TABLE name_of_table ADD column_name column_definition; \n",
    "- ALTER TABLE name_of_table DROP Column_Name_1 , column_Name_2 , ….., column_Name_N; \n",
    "- ALTER TABLE table_name MODIFY ( column_name column_datatype(size)); "
   ]
  },
  {
   "cell_type": "markdown",
   "id": "80e319a1-a303-44e2-a2a9-cb3e7a0bfee3",
   "metadata": {},
   "source": [
    "(4).TRUNCATE Command\n",
    "- TRUNCATE is another DDL command which deletes or removes all the records from the table.\n",
    "- This command also removes the space allocated for storing the table records.\n",
    "\n",
    "for example\n",
    "- TRUNCATE TABLE Table_Name;\n",
    "\n",
    "  SELECT * FROM Student;  \n"
   ]
  },
  {
   "cell_type": "markdown",
   "id": "2d89690f-5d76-4888-bc5f-61e1853c0318",
   "metadata": {},
   "source": [
    "## Q3. What is DML? Explain INSERT, UPDATE, and DELETE with an example."
   ]
  },
  {
   "cell_type": "markdown",
   "id": "79896c3a-f036-46c6-866f-19ca7db86a98",
   "metadata": {},
   "source": [
    "DML=Data Manipulation Language."
   ]
  },
  {
   "cell_type": "markdown",
   "id": "088b0cfd-63a6-4eae-82ed-82f1b7828021",
   "metadata": {},
   "source": [
    "The DML commands in Structured Query Language change the data present in the SQL database. We can easily access, store, modify, update and delete the existing records from the database using DML commands."
   ]
  },
  {
   "cell_type": "markdown",
   "id": "06a3097a-2b86-485d-9663-5b6dbb559f10",
   "metadata": {},
   "source": [
    "(1). INSERT DML Command\n",
    "- INSERT is another most important data manipulation command in Structured Query Language, which allows users to insert data in database tables.\n",
    "\n",
    "for example\n",
    "- INSERT INTO TABLE_NAME ( column_Name1 , column_Name2 , column_Name3 , .... column_NameN )  VALUES (value_1, value_2, value_3, .... value_N ) ;    "
   ]
  },
  {
   "cell_type": "markdown",
   "id": "e80cd681-866d-4904-82f0-aaac96adef67",
   "metadata": {},
   "source": [
    "(2).UPDATE DML Command\n",
    "- UPDATE is another most important data manipulation command in Structured Query Language, which allows users to update or modify the existing data in database tables.\n",
    "\n",
    "for example\n",
    "- UPDATE Table_name SET [column_name1= value_1, ….., column_nameN = value_N] WHERE CONDITION;  "
   ]
  },
  {
   "cell_type": "markdown",
   "id": "99992cab-4f03-4b88-a0fa-e87ad8a21566",
   "metadata": {},
   "source": [
    "(3).DELETE DML Command\n",
    "- DELETE is a DML command which allows SQL users to remove single or multiple existing records from the database tables.\n",
    "- This command of Data Manipulation Language does not delete the stored data permanently from the database. We use the WHERE clause with the DELETE command to select specific rows from the table.\n",
    "\n",
    "for example\n",
    "- DELETE FROM Table_Name WHERE condition; \n"
   ]
  },
  {
   "cell_type": "markdown",
   "id": "7251a873-6fdf-4e53-9d74-4aba176ee80d",
   "metadata": {},
   "source": [
    "## Q4. What is DQL? Explain SELECT with an example."
   ]
  },
  {
   "cell_type": "markdown",
   "id": "fce9b944-b213-4e82-8b48-14cca3ce55d3",
   "metadata": {},
   "source": [
    "DQL=Data Query Language"
   ]
  },
  {
   "cell_type": "markdown",
   "id": "dd395c3e-5206-40fe-85d3-08c5a70b7514",
   "metadata": {},
   "source": [
    "DQL is a portion of a SQL statement that allows you to get and organise data from a database."
   ]
  },
  {
   "cell_type": "markdown",
   "id": "33fac6d9-0803-49e4-8ab1-2bafa0cc4db8",
   "metadata": {},
   "source": [
    "Syntax\n",
    "- SELECT expression FROM table_x WHERE code_conditions;\n",
    "\n",
    "Example\n",
    "- SELECT Stu_Name FROM Student WHERE Phone = 9039462908;"
   ]
  },
  {
   "cell_type": "markdown",
   "id": "bf31c7b8-4918-4973-b35a-abc94e8fbb75",
   "metadata": {},
   "source": [
    "## Q5. Explain Primary Key and Foreign Key."
   ]
  },
  {
   "cell_type": "markdown",
   "id": "d81f4772-e174-4408-8a06-1b042323f73a",
   "metadata": {},
   "source": [
    "Primary Key\n",
    "- The primary key is a unique or non-null key that uniquely identifies every record in a table or relation. Each database needs a unique identifier for every row of a table, and the primary key plays a vital role in identifying rows in the table uniquely. The primary key column can't store duplicate values. It is also called a minimal super key; therefore, we cannot specify more than one primary key in any relationship."
   ]
  },
  {
   "cell_type": "markdown",
   "id": "dae699ff-dae6-4400-85a7-6ec4547b917f",
   "metadata": {},
   "source": [
    "Foreign Key\n",
    "- The foreign key is a group of one or more columns in a database to uniquely identify another database record in some other table to maintain the referential integrity. It is also known as the referencing key that establishes a relationship between two different tables in a database. A foreign key always matches the primary key column in another table. It means a foreign key column in one table refers to the primary key column of another table. A foreign key is beneficial in relational database normalization, especially when we need to access records from other tables."
   ]
  },
  {
   "cell_type": "markdown",
   "id": "2d4f11c1-8151-479c-bf0a-6500bf8c6d25",
   "metadata": {},
   "source": [
    "## Q6. Write a python code to connect MySQL to python. Explain the cursor() and execute() method."
   ]
  },
  {
   "cell_type": "code",
   "execution_count": null,
   "id": "36a294a5-946b-44f1-a326-9354934ddeb2",
   "metadata": {},
   "outputs": [],
   "source": [
    "import mysql.connector\n",
    "\n",
    "mydb = mysql.connector.connect(\n",
    "  host=\"localhost\",\n",
    "  user=\"yourusername\",\n",
    "  password=\"yourpassword\",\n",
    "  database=\"yourdatabase\"\n",
    ")\n",
    "\n",
    "mycursor = mydb.cursor()\n",
    "\n",
    "mycursor.execute(\"SELECT * FROM yourtable\")\n",
    "\n",
    "myresult = mycursor.fetchall()\n",
    "\n",
    "for x in myresult:\n",
    "  print(x)"
   ]
  },
  {
   "cell_type": "markdown",
   "id": "3921c2ef-22a8-4be0-af5d-5d026925056d",
   "metadata": {},
   "source": [
    "cursor()\n",
    "- The cursor() method is used to create a cursor object in MySQL. The cursor object is used to execute queries and traverse the result set of a SELECT query."
   ]
  },
  {
   "cell_type": "markdown",
   "id": "fff29b1e-e5ad-4e6c-b9ab-53d5e0972efb",
   "metadata": {},
   "source": [
    "execute()\n",
    "- The execute() method is used to execute an SQL query on the database using the cursor object. We can pass the SQL query as a string parameter to the execute() method"
   ]
  },
  {
   "cell_type": "markdown",
   "id": "5b07fda1-0f67-4c57-b6c2-80ef97841380",
   "metadata": {},
   "source": [
    "## Q7. Give the order of execution of SQL clauses in an SQL query."
   ]
  },
  {
   "cell_type": "markdown",
   "id": "5bc6784f-c63b-41b1-a351-362d586ea512",
   "metadata": {},
   "source": [
    "The order of execution of SQL clauses in an SQL query is as follows:\n",
    "\n",
    "1. FROM clause: This clause identifies the table or tables from which the data will be retrieved.\n",
    "\n",
    "2. JOIN clause: If multiple tables are involved, the JOIN clause specifies how the tables are related to each other.\n",
    "\n",
    "3. WHERE clause: This clause is used to filter the rows based on specified conditions.\n",
    "\n",
    "4. GROUP BY clause: This clause is used to group the rows based on specified columns.\n",
    "\n",
    "5. HAVING clause: This clause is used to filter the groups based on specified conditions.\n",
    "\n",
    "6. SELECT clause: This clause specifies the columns to be included in the result set.\n",
    "\n",
    "7. DISTINCT clause: This clause eliminates duplicate rows from the result set.\n",
    "\n",
    "8. ORDER BY clause: This clause is used to sort the result set based on specified columns.\n",
    "\n",
    "9. LIMIT clause: This clause limits the number of rows returned by the query."
   ]
  },
  {
   "cell_type": "code",
   "execution_count": null,
   "id": "edd9b8fe-032e-42f3-8104-94b52b346d82",
   "metadata": {},
   "outputs": [],
   "source": []
  }
 ],
 "metadata": {
  "kernelspec": {
   "display_name": "Python 3 (ipykernel)",
   "language": "python",
   "name": "python3"
  },
  "language_info": {
   "codemirror_mode": {
    "name": "ipython",
    "version": 3
   },
   "file_extension": ".py",
   "mimetype": "text/x-python",
   "name": "python",
   "nbconvert_exporter": "python",
   "pygments_lexer": "ipython3",
   "version": "3.10.8"
  }
 },
 "nbformat": 4,
 "nbformat_minor": 5
}
