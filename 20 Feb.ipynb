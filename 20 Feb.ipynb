{
 "cells": [
  {
   "cell_type": "markdown",
   "id": "51f8f313-77e0-476f-935c-d279534e9225",
   "metadata": {},
   "source": [
    "## Q1. Explain GET and POST methods."
   ]
  },
  {
   "cell_type": "markdown",
   "id": "ea2bc1ae-7510-4b6d-9a96-d93a1b9877c8",
   "metadata": {},
   "source": [
    "\n",
    "GET and POST are two HTTP request methods used to send data from the client (e.g., a web browser) to the server.\n",
    "\n",
    "**GET Method**:\n",
    "\n",
    "1. The GET method is used to request data from a specified resource.\n",
    "2. When a client sends a GET request, the data is appended to the URL in the form of query parameters.\n",
    "3. GET requests are typically used for operations that do not modify the server's state, such as fetching data or displaying a web page.\n",
    "4. The data sent with a GET request is visible to everyone as it is included in the URL. Therefore, GET requests should not be used for sensitive data or operations that modify data on the server.\n",
    "5. Example: Fetching search results from a search engine, retrieving a webpage, etc.\n",
    "\n",
    "**POST Method**:\n",
    "\n",
    "1. The POST method is used to submit data to be processed to a specified resource.\n",
    "2. When a client sends a POST request, the data is sent in the request body, not as part of the URL.\n",
    "3. POST requests are commonly used for operations that modify data on the server, such as submitting a form or uploading a file.\n",
    "4. The data sent with a POST request is not visible in the URL, making it suitable for sending sensitive information.\n",
    "5. POST requests can send larger amounts of data compared to GET requests, and they can support more complex data types, such as JSON or binary data.\n",
    "6. Example: Submitting a form on a website, uploading a file, etc."
   ]
  },
  {
   "cell_type": "markdown",
   "id": "c5ea323b-d1d7-4737-a2f2-2d325a3071a2",
   "metadata": {},
   "source": [
    "## Q2. Why is request used in Flask?"
   ]
  },
  {
   "cell_type": "markdown",
   "id": "511874fe-bb27-4797-a540-5a55e4deacd2",
   "metadata": {},
   "source": [
    "In Flask, the request object is used to access incoming request data submitted by a client (e.g., a web browser) to the server. It provides access to various attributes and methods that allow you to retrieve information about the request, such as form data, URL parameters, cookies, headers, and more.\n",
    "\n",
    "The request object is particularly useful for handling user input, processing form submissions, and making decisions based on the content of incoming requests. Here are some common use cases for the request object in Flask:\n",
    "\n",
    "1. Accessing Form Data: You can use the request.form attribute to access data submitted via HTML forms using methods like POST or PUT.\n",
    "\n",
    "2. Accessing URL Parameters: The request.args attribute allows you to access query parameters passed in the URL.\n",
    "\n",
    "3. Accessing Cookies: The request.cookies attribute provides access to cookies sent by the client.\n",
    "\n",
    "4. Accessing Headers: The request.headers attribute allows you to access HTTP headers sent by the client, such as User-Agent, Referer, etc.\n",
    "\n",
    "5. File Uploads: The request.files attribute is used to handle file uploads submitted via HTML forms.\n",
    "\n",
    "6. Accessing Request Methods: The request.method attribute returns the HTTP request method (e.g., GET, POST, PUT, DELETE).\n",
    "\n",
    "7. Accessing Request Path: The request.path attribute returns the path of the request URL.\n",
    "\n",
    "8. Accessing JSON Data: If the client sends data in JSON format, you can use request.json to access it.\n",
    "\n",
    "By using the request object, you can handle various types of incoming data and interact with the client in a dynamic and flexible manner. This allows you to build interactive web applications with Flask that can respond to user input and make decisions based on the content of incoming requests."
   ]
  },
  {
   "cell_type": "markdown",
   "id": "e471aa52-8e68-4d6d-a3b1-a195f81060ff",
   "metadata": {},
   "source": [
    "## Q3. Why is redirect() used in Flask?"
   ]
  },
  {
   "cell_type": "markdown",
   "id": "5b4eb041-00cb-46d8-87b2-2b47806555e8",
   "metadata": {},
   "source": [
    "\n",
    "In Flask, the redirect() function is used to redirect the client's web browser to a different URL. It is commonly used to handle scenarios such as:\n",
    "\n",
    "1. **After Form Submission**: After a form is submitted, you might want to redirect the user to a different page to display a success message or to another part of the application.\n",
    "\n",
    "2. **After Authentication**: After a user logs in or signs up, you may want to redirect them to their profile page or a dashboard.\n",
    "\n",
    "3. **URL Handling**: You may want to redirect users from old URLs to new URLs, especially if you've changed the URL structure of your application.\n",
    "\n",
    "4. **Preventing Form Resubmission**: After processing a form submission, you can redirect the user to a different page to prevent them from accidentally resubmitting the form if they refresh the page."
   ]
  },
  {
   "cell_type": "markdown",
   "id": "5c07703f-43f7-4aa9-9ef3-650401a2d34e",
   "metadata": {},
   "source": [
    "## Q4. What are templates in Flask? Why is the render_template() function used?"
   ]
  },
  {
   "cell_type": "markdown",
   "id": "44a75907-aeb6-4d00-a1ff-199529f7dbca",
   "metadata": {},
   "source": [
    "\n",
    "In Flask, templates are used to generate dynamic HTML content that can be served to the client (e.g., web browser). Templates allow you to separate the presentation layer (HTML) from the logic layer (Python code) of your application, making your code more organized and maintainable.\n",
    "\n",
    "Templates typically contain placeholders or template variables that are replaced with actual values when the template is rendered. These placeholders can be populated with data passed from your Python code to the template.\n",
    "\n",
    "The render_template() function in Flask is used to render templates by specifying the name of the template file and optionally passing data to be used in the template. It automatically looks for template files in the templates folder within your Flask application directory."
   ]
  },
  {
   "cell_type": "markdown",
   "id": "74314854-293b-45f4-87b8-45d51fc0dc85",
   "metadata": {},
   "source": [
    "## Q5. Create a simple API. Use Postman to test it. Attach the screenshot of the output in the Jupyter Notebook."
   ]
  },
  {
   "cell_type": "code",
   "execution_count": 1,
   "id": "2e57eb81-3896-423f-a061-09dc643f8710",
   "metadata": {
    "tags": []
   },
   "outputs": [
    {
     "name": "stdout",
     "output_type": "stream",
     "text": [
      " * Serving Flask app '__main__'\n",
      " * Debug mode: on\n"
     ]
    },
    {
     "name": "stderr",
     "output_type": "stream",
     "text": [
      "WARNING: This is a development server. Do not use it in a production deployment. Use a production WSGI server instead.\n",
      " * Running on http://127.0.0.1:5000\n",
      "Press CTRL+C to quit\n",
      " * Restarting with watchdog (windowsapi)\n"
     ]
    },
    {
     "ename": "SystemExit",
     "evalue": "1",
     "output_type": "error",
     "traceback": [
      "An exception has occurred, use %tb to see the full traceback.\n",
      "\u001b[1;31mSystemExit\u001b[0m\u001b[1;31m:\u001b[0m 1\n"
     ]
    },
    {
     "name": "stderr",
     "output_type": "stream",
     "text": [
      "C:\\Users\\DATA-10\\AppData\\Roaming\\Python\\Python311\\site-packages\\IPython\\core\\interactiveshell.py:3516: UserWarning: To exit: use 'exit', 'quit', or Ctrl-D.\n",
      "  warn(\"To exit: use 'exit', 'quit', or Ctrl-D.\", stacklevel=1)\n"
     ]
    }
   ],
   "source": [
    "from flask import Flask, jsonify\n",
    "\n",
    "app = Flask(__name__)\n",
    "\n",
    "@app.route('/api/hello', methods=['GET'])\n",
    "def hello():\n",
    "    return jsonify({'message': 'Hello, world!'})\n",
    "\n",
    "if __name__ == '__main__':\n",
    "    app.run(debug=True)"
   ]
  },
  {
   "cell_type": "code",
   "execution_count": null,
   "id": "9481cb3c-3e5c-42be-83d3-533b2df3338a",
   "metadata": {},
   "outputs": [],
   "source": []
  }
 ],
 "metadata": {
  "kernelspec": {
   "display_name": "Python 3 (ipykernel)",
   "language": "python",
   "name": "python3"
  },
  "language_info": {
   "codemirror_mode": {
    "name": "ipython",
    "version": 3
   },
   "file_extension": ".py",
   "mimetype": "text/x-python",
   "name": "python",
   "nbconvert_exporter": "python",
   "pygments_lexer": "ipython3",
   "version": "3.11.5"
  }
 },
 "nbformat": 4,
 "nbformat_minor": 5
}
