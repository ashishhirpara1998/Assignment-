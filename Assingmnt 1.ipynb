{
 "cells": [
  {
   "cell_type": "code",
   "execution_count": null,
   "id": "38e90bba-96f4-4b01-a857-34b132cac5a9",
   "metadata": {},
   "outputs": [],
   "source": [
    "Q.1\n",
    "Python was created by GUIDO VAN ROSSUM,"
   ]
  },
  {
   "cell_type": "code",
   "execution_count": null,
   "id": "0cbea230-5d19-4a31-b92a-aa78cf0dbbd1",
   "metadata": {},
   "outputs": [],
   "source": [
    "Q.2\n",
    "Python is a multi-paradigm programming language.Object-oriented programming and  structured programming are fully supported,"
   ]
  },
  {
   "cell_type": "code",
   "execution_count": null,
   "id": "f2e118b4-1646-4c71-beff-bdd383485f42",
   "metadata": {},
   "outputs": [],
   "source": [
    "Q.3\n",
    "YES,Python is a case-sensitive language."
   ]
  },
  {
   "cell_type": "code",
   "execution_count": null,
   "id": "c179954d-3ee4-4583-962b-64d12e107b53",
   "metadata": {},
   "outputs": [],
   "source": [
    "Q.4\n",
    "Extensions of Python File are as follows\n",
    ".py\n",
    ".pyi\n",
    ".pyc\n",
    ".pyd\n",
    ".pyo\n",
    ".pyw\n",
    ".pyz"
   ]
  },
  {
   "cell_type": "code",
   "execution_count": null,
   "id": "6216fe4f-2c4f-45f3-bb26-22db6ee15320",
   "metadata": {},
   "outputs": [],
   "source": [
    "Q.5\n",
    "Python is an interpreted language."
   ]
  },
  {
   "cell_type": "code",
   "execution_count": null,
   "id": "6877ed4a-45a4-4c16-8cc8-cfcf4ae635f1",
   "metadata": {},
   "outputs": [],
   "source": [
    "Q.6\n",
    "Indentation is used to define a block of code in python."
   ]
  },
  {
   "cell_type": "code",
   "execution_count": null,
   "id": "3efc3ee8-c15a-4047-b3f2-f61026e20446",
   "metadata": {},
   "outputs": [],
   "source": [
    "Q.7\n",
    "Hash character(#) is used to comment the single line in the Python language."
   ]
  },
  {
   "cell_type": "code",
   "execution_count": null,
   "id": "bac3db72-5e7a-4829-90de-1afe40c580dc",
   "metadata": {},
   "outputs": [],
   "source": [
    "Q.8\n",
    "The function (sys.version)can help us to find the version that we are currently working on."
   ]
  },
  {
   "cell_type": "code",
   "execution_count": null,
   "id": "47ee5a6c-002a-4c43-bb65-942c15627bc2",
   "metadata": {},
   "outputs": [],
   "source": [
    "Q.9\n",
    "\"lambda\""
   ]
  },
  {
   "cell_type": "code",
   "execution_count": null,
   "id": "2be9edc7-5b77-41fd-b6e3-0ae79fdd52d3",
   "metadata": {},
   "outputs": [],
   "source": [
    "Q.10\n",
    "preferred installer program."
   ]
  },
  {
   "cell_type": "code",
   "execution_count": null,
   "id": "2ba7af2a-fc0b-4307-b2c1-07ab37cd2765",
   "metadata": {},
   "outputs": [],
   "source": [
    "Q.11\n",
    "Python Bullt-in Functions\n",
    "-print() function.\n",
    "-type() function.\n",
    "-input() function.\n",
    "-abs() function.\n",
    "-pow() function.\n",
    "-dir() function.\n",
    "-sorted() function.\n",
    "-max() function.\n"
   ]
  },
  {
   "cell_type": "code",
   "execution_count": null,
   "id": "daad0a2e-4f73-4781-af66-8ae41b6f3815",
   "metadata": {},
   "outputs": [],
   "source": [
    "Q.12\n",
    "An identifier can have a maximum length of 79 characters in Python."
   ]
  },
  {
   "cell_type": "code",
   "execution_count": null,
   "id": "dcd6b7a6-5103-4b44-a650-6ec5cfc9b73a",
   "metadata": {},
   "outputs": [],
   "source": [
    "Q.13\n",
    "Benefits of Python is\n",
    "1).Easy-to-learn And Easy-to-use\n",
    "2).improves productivity\n",
    "3).interpreted Language\n",
    "4).Open-source\n",
    "5).Easily Portable\n",
    "6).Massive Libraries\n",
    "7).Easy-to-integrated with Othe programming Language."
   ]
  },
  {
   "cell_type": "code",
   "execution_count": null,
   "id": "6528fc8a-3674-4921-88ce-fa22c714e723",
   "metadata": {},
   "outputs": [],
   "source": [
    "Q.14\n",
    "Python memory manager manages the allocation or de-allocation of the heap memory space through the\n",
    "\"API function\""
   ]
  },
  {
   "cell_type": "code",
   "execution_count": null,
   "id": "78d63291-8817-4aa8-b38e-285a35d2f285",
   "metadata": {},
   "outputs": [],
   "source": [
    "Q.15\n",
    "Install python from this link https://www.python.org/downloads/\n",
    "After this, install it on your PC. Look for the location where PYTHON has been installed on your PC using tge following command on your command prompt: cmd python.\n",
    "Then go to advanced system settings and add new variable and name it as PYTHON_NAME and paste the copied path.\n",
    "Then look for the path variable, select it's value and select edit\n",
    "Add a semicolon towards the end of the value if it's not present and then type %PYTHON_HOME%"
   ]
  },
  {
   "cell_type": "code",
   "execution_count": null,
   "id": "6038399b-d4b0-4d3e-ad74-d71440abd9dd",
   "metadata": {},
   "outputs": [],
   "source": [
    "Q.16\n",
    "Indentation refers to the spaces at the beginning of a code line.\n",
    "The Indentation in Python is very important.\n",
    "Pyton uses imdentation to indicate a block of code."
   ]
  }
 ],
 "metadata": {
  "kernelspec": {
   "display_name": "Python 3 (ipykernel)",
   "language": "python",
   "name": "python3"
  },
  "language_info": {
   "codemirror_mode": {
    "name": "ipython",
    "version": 3
   },
   "file_extension": ".py",
   "mimetype": "text/x-python",
   "name": "python",
   "nbconvert_exporter": "python",
   "pygments_lexer": "ipython3",
   "version": "3.10.8"
  }
 },
 "nbformat": 4,
 "nbformat_minor": 5
}
