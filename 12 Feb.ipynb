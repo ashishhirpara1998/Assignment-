{
 "cells": [
  {
   "cell_type": "markdown",
   "id": "390b52c0-31c4-4128-b32b-9a374a8be432",
   "metadata": {},
   "source": [
    "## Q1. What is an Exception in python? Write the difference between Eception and Syntax errors."
   ]
  },
  {
   "cell_type": "markdown",
   "id": "3d0ab755-fe6c-4346-9a04-b3e06e0a8c88",
   "metadata": {},
   "source": [
    "\n",
    "In Python, an exception is an event that occurs during the execution of a program that disrupts the normal flow of instructions. When an error occurs, Python generates an exception object to represent the error condition. Exceptions can occur for various reasons, such as invalid input, division by zero, file not found, and so on. Python provides a mechanism for handling exceptions using try, except, finally, and raise statements.\n",
    "\n",
    "Here's the difference between exceptions and syntax errors:\n",
    "\n",
    "1. Exception:\n",
    "    1. An exception is a runtime error that occurs when a program is executing. \n",
    "    2. It typically happens due to logical errors, unexpected conditions, or              invalid     inputs during the execution of the program.\n",
    "    3. Examples of exceptions include ZeroDivisionError, TypeError, ValueError,          FileNotFoundError, etc.\n",
    "    4. Exceptions can be handled using try, except, finally, and raise statements.\n",
    "    \n",
    "2. Syntax Error:\n",
    "    1. A syntax error is a compile-time error that occurs when the syntax of the          code violates the rules of the programming language.\n",
    "    2. It usually happens due to mistakes such as misspelled keywords, missing or        misplaced punctuation, incorrect indentation, etc.\n",
    "    3. Syntax errors prevent the program from being executed and must be fixed            before running the program.\n",
    "    4. Examples of syntax errors include missing colons at the end of if, elif,          else, for, while, etc., statements, missing parentheses, incorrect                indentation, etc."
   ]
  },
  {
   "cell_type": "markdown",
   "id": "533dea95-d54d-430f-9114-f2d581bb1970",
   "metadata": {},
   "source": [
    "## Q2. What happens when an exception is not handled? Explain with an example."
   ]
  },
  {
   "cell_type": "markdown",
   "id": "33b33c5e-5b71-4493-86f0-027ef63d5fba",
   "metadata": {},
   "source": [
    "\n",
    "When an exception is not handled, it propagates up the call stack until it is caught by an exception handler or until it reaches the top level of the program. If an exception is not caught and handled, it results in the termination of the program, and an error message is displayed indicating the type of exception and the line of code where it occurred. This termination is known as an unhandled exception or an uncaught exception.\n",
    "\n",
    "Here's an example to illustrate what happens when an exception is not handled:"
   ]
  },
  {
   "cell_type": "code",
   "execution_count": 1,
   "id": "339c0175-f94b-4e4a-9ef5-580b6b4442b0",
   "metadata": {
    "tags": []
   },
   "outputs": [
    {
     "ename": "ZeroDivisionError",
     "evalue": "division by zero",
     "output_type": "error",
     "traceback": [
      "\u001b[1;31m---------------------------------------------------------------------------\u001b[0m",
      "\u001b[1;31mZeroDivisionError\u001b[0m                         Traceback (most recent call last)",
      "Cell \u001b[1;32mIn[1], line 7\u001b[0m\n\u001b[0;32m      4\u001b[0m     \u001b[38;5;28;01mreturn\u001b[39;00m result\n\u001b[0;32m      6\u001b[0m \u001b[38;5;66;03m# Function call with divisor as 0, causing a ZeroDivisionError\u001b[39;00m\n\u001b[1;32m----> 7\u001b[0m result \u001b[38;5;241m=\u001b[39m \u001b[43mdivide\u001b[49m\u001b[43m(\u001b[49m\u001b[38;5;241;43m10\u001b[39;49m\u001b[43m,\u001b[49m\u001b[43m \u001b[49m\u001b[38;5;241;43m0\u001b[39;49m\u001b[43m)\u001b[49m\n\u001b[0;32m      8\u001b[0m \u001b[38;5;28mprint\u001b[39m(\u001b[38;5;124m\"\u001b[39m\u001b[38;5;124mResult:\u001b[39m\u001b[38;5;124m\"\u001b[39m, result)  \u001b[38;5;66;03m# This line won't be executed if an exception occurs\u001b[39;00m\n",
      "Cell \u001b[1;32mIn[1], line 3\u001b[0m, in \u001b[0;36mdivide\u001b[1;34m(x, y)\u001b[0m\n\u001b[0;32m      2\u001b[0m \u001b[38;5;28;01mdef\u001b[39;00m \u001b[38;5;21mdivide\u001b[39m(x, y):\n\u001b[1;32m----> 3\u001b[0m     result \u001b[38;5;241m=\u001b[39m \u001b[43mx\u001b[49m\u001b[43m \u001b[49m\u001b[38;5;241;43m/\u001b[39;49m\u001b[43m \u001b[49m\u001b[43my\u001b[49m  \u001b[38;5;66;03m# Division by zero if y is 0\u001b[39;00m\n\u001b[0;32m      4\u001b[0m     \u001b[38;5;28;01mreturn\u001b[39;00m result\n",
      "\u001b[1;31mZeroDivisionError\u001b[0m: division by zero"
     ]
    }
   ],
   "source": [
    "# Example of an unhandled exception\n",
    "def divide(x, y):\n",
    "    result = x / y  # Division by zero if y is 0\n",
    "    return result\n",
    "\n",
    "# Function call with divisor as 0, causing a ZeroDivisionError\n",
    "result = divide(10, 0)\n",
    "print(\"Result:\", result)  # This line won't be executed if an exception occurs\n"
   ]
  },
  {
   "cell_type": "markdown",
   "id": "83c8393c-6287-412a-8a85-66c06820b15a",
   "metadata": {},
   "source": [
    "## Q3. Which Python statements are used to catch and handle exceptions?Explain with an example."
   ]
  },
  {
   "cell_type": "markdown",
   "id": "67f0084a-5e6d-43d4-be71-0ab548e9777d",
   "metadata": {},
   "source": [
    "\n",
    "In Python, the try, except, else, and finally statements are used to catch and handle exceptions. These statements allow you to write code that gracefully handles errors and exceptions, preventing them from causing your program to crash.\n",
    "\n",
    "Here's a brief explanation of each of these statements:\n",
    "\n",
    "1. try: The try statement is used to enclose the code block that may raise an             exception. It allows you to define a block of code in which exceptions may         occur.\n",
    "\n",
    "2. except: The except statement is used to catch and handle specific exceptions              that occur within the corresponding try block. You can have multiple              except blocks to handle different types of exceptions.\n",
    "\n",
    "3. else: The else statement is optional and is used to define a block of code that          will be executed if no exceptions occur in the corresponding try block.\n",
    "\n",
    "4. finally: The finally statement is also optional and is used to define a block               of code that will be executed regardless of whether an exception                   occurs in the try block. This block is typically used for cleanup                 operations, such as closing files or releasing resources.\n",
    "\n",
    "Here's an example demonstrating the usage of these statements to catch and handle exceptions:"
   ]
  },
  {
   "cell_type": "code",
   "execution_count": 3,
   "id": "a02e9071-a0bc-4acb-83e9-420e85566cb9",
   "metadata": {
    "tags": []
   },
   "outputs": [
    {
     "name": "stdout",
     "output_type": "stream",
     "text": [
      "Enter a number:  0\n"
     ]
    },
    {
     "name": "stdout",
     "output_type": "stream",
     "text": [
      "Error: Division by zero is not allowed.\n",
      "Exiting the program.\n"
     ]
    }
   ],
   "source": [
    "try:\n",
    "    # Code block that may raise an exception\n",
    "    x = int(input(\"Enter a number: \"))\n",
    "    result = 10 / x\n",
    "    print(\"Result:\", result)\n",
    "except ValueError:\n",
    "    # Handle ValueError (e.g., if the input is not a valid integer)\n",
    "    print(\"Error: Please enter a valid integer.\")\n",
    "except ZeroDivisionError:\n",
    "    # Handle ZeroDivisionError (e.g., if the user enters 0 as the divisor)\n",
    "    print(\"Error: Division by zero is not allowed.\")\n",
    "else:\n",
    "    # Executed if no exceptions occur in the try block\n",
    "    print(\"No exceptions occurred.\")\n",
    "finally:\n",
    "    # Executed regardless of whether an exception occurs\n",
    "    print(\"Exiting the program.\")\n"
   ]
  },
  {
   "cell_type": "markdown",
   "id": "3b41d028-4576-42aa-9bde-f4adedf62b14",
   "metadata": {},
   "source": [
    "## Q4. Explain with an example:\n",
    "       a.try and else\n",
    "       b.finally\n",
    "       c.raise"
   ]
  },
  {
   "cell_type": "code",
   "execution_count": 4,
   "id": "815994d2-e559-4c30-a96d-ad2c28003395",
   "metadata": {
    "tags": []
   },
   "outputs": [
    {
     "name": "stdout",
     "output_type": "stream",
     "text": [
      "Enter a number:  0\n"
     ]
    },
    {
     "ename": "ZeroDivisionError",
     "evalue": "division by zero",
     "output_type": "error",
     "traceback": [
      "\u001b[1;31m---------------------------------------------------------------------------\u001b[0m",
      "\u001b[1;31mZeroDivisionError\u001b[0m                         Traceback (most recent call last)",
      "Cell \u001b[1;32mIn[4], line 4\u001b[0m\n\u001b[0;32m      2\u001b[0m \u001b[38;5;28;01mtry\u001b[39;00m:\n\u001b[0;32m      3\u001b[0m     x \u001b[38;5;241m=\u001b[39m \u001b[38;5;28mint\u001b[39m(\u001b[38;5;28minput\u001b[39m(\u001b[38;5;124m\"\u001b[39m\u001b[38;5;124mEnter a number: \u001b[39m\u001b[38;5;124m\"\u001b[39m))\n\u001b[1;32m----> 4\u001b[0m     result \u001b[38;5;241m=\u001b[39m \u001b[38;5;241;43m10\u001b[39;49m\u001b[43m \u001b[49m\u001b[38;5;241;43m/\u001b[39;49m\u001b[43m \u001b[49m\u001b[43mx\u001b[49m\n\u001b[0;32m      5\u001b[0m \u001b[38;5;28;01mexcept\u001b[39;00m \u001b[38;5;167;01mValueError\u001b[39;00m:\n\u001b[0;32m      6\u001b[0m     \u001b[38;5;28mprint\u001b[39m(\u001b[38;5;124m\"\u001b[39m\u001b[38;5;124mError: Please enter a valid integer.\u001b[39m\u001b[38;5;124m\"\u001b[39m)\n",
      "\u001b[1;31mZeroDivisionError\u001b[0m: division by zero"
     ]
    }
   ],
   "source": [
    "# Example using try and else\n",
    "try:\n",
    "    x = int(input(\"Enter a number: \"))\n",
    "    result = 10 / x\n",
    "except ValueError:\n",
    "    print(\"Error: Please enter a valid integer.\")\n",
    "else:\n",
    "    # This block will be executed if no exceptions occur in the try block\n",
    "    print(\"Division result:\", result)\n"
   ]
  },
  {
   "cell_type": "code",
   "execution_count": 5,
   "id": "19148149-0adf-4dd1-8368-80396c42c354",
   "metadata": {
    "tags": []
   },
   "outputs": [
    {
     "name": "stdout",
     "output_type": "stream",
     "text": [
      "Enter a number:  0\n"
     ]
    },
    {
     "name": "stdout",
     "output_type": "stream",
     "text": [
      "Error: Division by zero is not allowed.\n",
      "Exiting the program.\n"
     ]
    }
   ],
   "source": [
    "# Example using try, except, and finally\n",
    "try:\n",
    "    x = int(input(\"Enter a number: \"))\n",
    "    result = 10 / x\n",
    "except ValueError:\n",
    "    print(\"Error: Please enter a valid integer.\")\n",
    "except ZeroDivisionError:\n",
    "    print(\"Error: Division by zero is not allowed.\")\n",
    "else:\n",
    "    print(\"Division result:\", result)\n",
    "finally:\n",
    "    # This block will always be executed, regardless of whether an exception occurs\n",
    "    print(\"Exiting the program.\")"
   ]
  },
  {
   "cell_type": "code",
   "execution_count": 6,
   "id": "d8b6dcd2-da9b-4082-9c3b-76d8d593ed85",
   "metadata": {
    "tags": []
   },
   "outputs": [
    {
     "name": "stdout",
     "output_type": "stream",
     "text": [
      "Age is valid\n",
      "Error: Age cannot be negative\n"
     ]
    }
   ],
   "source": [
    "# Example using raise statement\n",
    "def validate_age(age):\n",
    "    if age < 0:\n",
    "        raise ValueError(\"Age cannot be negative\")\n",
    "    elif age < 18:\n",
    "        raise ValueError(\"You must be at least 18 years old\")\n",
    "    else:\n",
    "        print(\"Age is valid\")\n",
    "\n",
    "# Test cases\n",
    "try:\n",
    "    validate_age(25)  # Valid age\n",
    "    validate_age(-5)  # Negative age\n",
    "except ValueError as e:\n",
    "    print(\"Error:\", e)"
   ]
  },
  {
   "cell_type": "markdown",
   "id": "b6d427a0-9c8f-446e-b486-4a2af04cdfc6",
   "metadata": {},
   "source": [
    "## Q5. What are Custom Exception in python? Why do we need Custom Exception? Explain an example."
   ]
  },
  {
   "cell_type": "markdown",
   "id": "140da412-ca8e-4244-8304-b8db4cd00c44",
   "metadata": {},
   "source": [
    "\n",
    "Custom exceptions in Python are user-defined exception classes that inherit from built-in exception classes like Exception or its subclasses. These exceptions are created to handle specific error conditions or exceptional situations in a program that are not covered by the built-in exceptions provided by Python.\n",
    "\n",
    "We need custom exceptions in Python for several reasons:\n",
    "\n",
    "1. Semantic Clarity: Custom exceptions allow developers to define and use                              exception names that are meaningful and descriptive in the                        context of their application or domain. This makes the code                        more readable and understandable.\n",
    "\n",
    "2. Error Differentiation: Custom exceptions enable finer-grained error handling by                           allowing developers to distinguish between different                               types of errors or exceptional situations. This can help                           in implementing targeted error recovery strategies.\n",
    "\n",
    "3. Modularity and Reusability: By encapsulating error handling logic within custom                                exception classes, developers can promote                                          modularity and reusability of their code. Custom                                  exceptions can be reused across different parts of                                the application or even in different projects.\n",
    "\n",
    "4. Debugging and Troubleshooting: Custom exceptions provide more specific error                                     messages and context information, which can be                                     helpful during debugging and troubleshooting.                                     They make it easier to pinpoint the root cause                                     of an error and take appropriate corrective                                       actions."
   ]
  },
  {
   "cell_type": "code",
   "execution_count": 7,
   "id": "d60b20c3-f416-4577-9994-a8537c0a1c81",
   "metadata": {
    "tags": []
   },
   "outputs": [
    {
     "name": "stdout",
     "output_type": "stream",
     "text": [
      "Error: Insufficient balance: Available balance is 100, but tried to withdraw 200\n"
     ]
    }
   ],
   "source": [
    "# Define a custom exception class\n",
    "class InsufficientBalanceError(Exception):\n",
    "    def __init__(self, balance, amount):\n",
    "        self.balance = balance\n",
    "        self.amount = amount\n",
    "        super().__init__(f\"Insufficient balance: Available balance is {balance}, but tried to withdraw {amount}\")\n",
    "\n",
    "# Define a function that simulates a bank withdrawal\n",
    "def withdraw(balance, amount):\n",
    "    if balance < amount:\n",
    "        raise InsufficientBalanceError(balance, amount)\n",
    "    else:\n",
    "        print(f\"Withdrawing {amount} from account. Remaining balance: {balance - amount}\")\n",
    "\n",
    "# Test case\n",
    "try:\n",
    "    withdraw(100, 200)  # Attempt to withdraw more than the available balance\n",
    "except InsufficientBalanceError as e:\n",
    "    print(\"Error:\", e)"
   ]
  },
  {
   "cell_type": "markdown",
   "id": "d27690c6-f7c6-4d00-b787-356a4ca3d0d2",
   "metadata": {},
   "source": [
    "## Q6. Create a custom exception class. Use this class to handle an exception."
   ]
  },
  {
   "cell_type": "code",
   "execution_count": 1,
   "id": "2ad782bf-0f42-4471-abce-f9b0f7d40a7e",
   "metadata": {},
   "outputs": [
    {
     "name": "stdout",
     "output_type": "stream",
     "text": [
      "Square root: 5.0\n",
      "Error: Negative numbers are not allowed: -25\n"
     ]
    }
   ],
   "source": [
    "# Define a custom exception class\n",
    "class NegativeNumberError(Exception):\n",
    "    def __init__(self, number):\n",
    "        self.number = number\n",
    "        super().__init__(f\"Negative numbers are not allowed: {number}\")\n",
    "\n",
    "# Function to calculate square root\n",
    "def calculate_square_root(number):\n",
    "    if number < 0:\n",
    "        raise NegativeNumberError(number)\n",
    "    else:\n",
    "        return number ** 0.5\n",
    "\n",
    "# Test cases\n",
    "try:\n",
    "    result = calculate_square_root(25)  # Valid input\n",
    "    print(\"Square root:\", result)\n",
    "    \n",
    "    result = calculate_square_root(-25)  # Invalid input (negative number)\n",
    "    print(\"Square root:\", result)  # This line won't be executed if an exception occurs\n",
    "except NegativeNumberError as e:\n",
    "    print(\"Error:\", e)"
   ]
  }
 ],
 "metadata": {
  "kernelspec": {
   "display_name": "Python 3 (ipykernel)",
   "language": "python",
   "name": "python3"
  },
  "language_info": {
   "codemirror_mode": {
    "name": "ipython",
    "version": 3
   },
   "file_extension": ".py",
   "mimetype": "text/x-python",
   "name": "python",
   "nbconvert_exporter": "python",
   "pygments_lexer": "ipython3",
   "version": "3.11.4"
  }
 },
 "nbformat": 4,
 "nbformat_minor": 5
}
