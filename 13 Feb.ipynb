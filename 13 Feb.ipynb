{
 "cells": [
  {
   "cell_type": "markdown",
   "id": "ccc6c968-cce6-403d-aa01-51b0b68b9b61",
   "metadata": {},
   "source": [
    "## Q1. Explain why we have to use the Exception class while creating a Custom Exception."
   ]
  },
  {
   "cell_type": "markdown",
   "id": "e339a799-33eb-4f5e-a31d-6051c4c28991",
   "metadata": {},
   "source": [
    "1. **Consistency and Standardization**: Inheriting from the          Exception class ensures that your custom exception follows    the standard conventions and behaviors expected of            exceptions in Python. It ensures consistency with built-in    exceptions, making your custom exception easily                recognizable and understandable to other developers.\n",
    "\n",
    "2. **Compatibility with Exception Handling Mechanisms**: Python's    exception handling mechanisms, such as try, except, and        finally, are designed to work with exceptions that inherit    from the Exception class. By inheriting from Exception,        your custom exception can seamlessly integrate with these      mechanisms, allowing for consistent error handling across      different parts of your codebase.\n",
    "\n",
    "3. **Broad Catching**: Inheriting from Exception allows your          custom exception to be caught using a broad except            statement that catches all exceptions (except Exception:).    This makes it easier to handle errors at a higher level in    your code without needing to explicitly catch each specific    type of exception.\n",
    "\n",
    "4. **Clarity and Readability**: Following the convention of          inheriting from Exception enhances the readability of your    code. Other developers familiar with Python's exception        handling practices will immediately recognize your custom      exception as an error condition that needs to be handled.\n",
    "\n",
    "5. **Future Compatibility**: Python's exception handling              mechanisms are foundational to the language and are            unlikely to undergo significant changes in the future. By      inheriting from Exception, your custom exception remains      compatible with any updates or enhancements made to            Python's exception handling system in future versions of      the language."
   ]
  },
  {
   "cell_type": "markdown",
   "id": "600107d8-4f0b-413d-9419-c6a04dffd6a3",
   "metadata": {},
   "source": [
    "## Q2. Write a python program to print Python Exception Hierarchy."
   ]
  },
  {
   "cell_type": "code",
   "execution_count": 1,
   "id": "cd31eb30-a533-44cb-947c-aade75a10b61",
   "metadata": {
    "tags": []
   },
   "outputs": [
    {
     "name": "stdout",
     "output_type": "stream",
     "text": [
      "Python Exception Hierarchy:\n",
      "Exception\n",
      "  ArithmeticError\n",
      "    FloatingPointError\n",
      "    OverflowError\n",
      "    ZeroDivisionError\n",
      "      DivisionByZero\n",
      "      DivisionUndefined\n",
      "    DecimalException\n",
      "      Clamped\n",
      "      Rounded\n",
      "        Underflow\n",
      "        Overflow\n",
      "      Inexact\n",
      "        Underflow\n",
      "        Overflow\n",
      "      Subnormal\n",
      "        Underflow\n",
      "      DivisionByZero\n",
      "      FloatOperation\n",
      "      InvalidOperation\n",
      "        ConversionSyntax\n",
      "        DivisionImpossible\n",
      "        DivisionUndefined\n",
      "        InvalidContext\n",
      "  AssertionError\n",
      "  AttributeError\n",
      "    FrozenInstanceError\n",
      "  BufferError\n",
      "  EOFError\n",
      "    IncompleteReadError\n",
      "  ImportError\n",
      "    ModuleNotFoundError\n",
      "      PackageNotFoundError\n",
      "    ZipImportError\n",
      "  LookupError\n",
      "    IndexError\n",
      "    KeyError\n",
      "      NoSuchKernel\n",
      "      UnknownBackend\n",
      "    CodecRegistryError\n",
      "  MemoryError\n",
      "  NameError\n",
      "    UnboundLocalError\n",
      "  OSError\n",
      "    BlockingIOError\n",
      "    ChildProcessError\n",
      "    ConnectionError\n",
      "      BrokenPipeError\n",
      "      ConnectionAbortedError\n",
      "      ConnectionRefusedError\n",
      "      ConnectionResetError\n",
      "        RemoteDisconnected\n",
      "    FileExistsError\n",
      "    FileNotFoundError\n",
      "    InterruptedError\n",
      "      InterruptedSystemCall\n",
      "    IsADirectoryError\n",
      "    NotADirectoryError\n",
      "    PermissionError\n",
      "    ProcessLookupError\n",
      "    TimeoutError\n",
      "    UnsupportedOperation\n",
      "    herror\n",
      "    gaierror\n",
      "    SSLError\n",
      "      SSLCertVerificationError\n",
      "      SSLZeroReturnError\n",
      "      SSLWantWriteError\n",
      "      SSLWantReadError\n",
      "      SSLSyscallError\n",
      "      SSLEOFError\n",
      "    Error\n",
      "      SameFileError\n",
      "    SpecialFileError\n",
      "    ExecError\n",
      "    ReadError\n",
      "    URLError\n",
      "      HTTPError\n",
      "      ContentTooShortError\n",
      "    BadGzipFile\n",
      "  ReferenceError\n",
      "  RuntimeError\n",
      "    NotImplementedError\n",
      "      ZMQVersionError\n",
      "      StdinNotImplementedError\n",
      "    RecursionError\n",
      "    _DeadlockError\n",
      "    BrokenBarrierError\n",
      "    BrokenExecutor\n",
      "      BrokenThreadPool\n",
      "    SendfileNotAvailableError\n",
      "    BrokenBarrierError\n",
      "    ExtractionError\n",
      "    VariableError\n",
      "  StopAsyncIteration\n",
      "  StopIteration\n",
      "  SyntaxError\n",
      "    IndentationError\n",
      "      TabError\n",
      "  SystemError\n",
      "    CodecRegistryError\n",
      "  TypeError\n",
      "    FloatOperation\n",
      "    MultipartConversionError\n",
      "  ValueError\n",
      "    UnicodeError\n",
      "      UnicodeDecodeError\n",
      "      UnicodeEncodeError\n",
      "      UnicodeTranslateError\n",
      "    UnsupportedOperation\n",
      "    JSONDecodeError\n",
      "    SSLCertVerificationError\n",
      "    Error\n",
      "    AddressValueError\n",
      "    NetmaskValueError\n",
      "    UnsupportedDigestmodError\n",
      "    IllegalMonthError\n",
      "    IllegalWeekdayError\n",
      "    ParserError\n",
      "    MessageDefect\n",
      "      NoBoundaryInMultipartDefect\n",
      "      StartBoundaryNotFoundDefect\n",
      "      CloseBoundaryNotFoundDefect\n",
      "      FirstHeaderLineIsContinuationDefect\n",
      "      MisplacedEnvelopeHeaderDefect\n",
      "      MissingHeaderBodySeparatorDefect\n",
      "      MultipartInvariantViolationDefect\n",
      "      InvalidMultipartContentTransferEncodingDefect\n",
      "      UndecodableBytesDefect\n",
      "      InvalidBase64PaddingDefect\n",
      "      InvalidBase64CharactersDefect\n",
      "      InvalidBase64LengthDefect\n",
      "      HeaderDefect\n",
      "        InvalidHeaderDefect\n",
      "        HeaderMissingRequiredValue\n",
      "        NonPrintableDefect\n",
      "        ObsoleteHeaderDefect\n",
      "        NonASCIILocalPartDefect\n",
      "        InvalidDateDefect\n",
      "    ClassNotFound\n",
      "    ClipboardEmpty\n",
      "    MacroToEdit\n",
      "    InvalidFileException\n",
      "    UnequalIterablesError\n",
      "    InvalidVersion\n",
      "    ELFInvalid\n",
      "    InvalidWheelFilename\n",
      "    InvalidSdistFilename\n",
      "    InvalidSpecifier\n",
      "    InvalidMarker\n",
      "    UndefinedComparison\n",
      "    UndefinedEnvironmentName\n",
      "    InvalidRequirement\n",
      "      RequirementParseError\n",
      "    InvalidVersion\n",
      "  Warning\n",
      "    BytesWarning\n",
      "    DeprecationWarning\n",
      "      ProvisionalWarning\n",
      "    EncodingWarning\n",
      "    FutureWarning\n",
      "      ProvisionalCompleterWarning\n",
      "    ImportWarning\n",
      "    PendingDeprecationWarning\n",
      "    ResourceWarning\n",
      "    RuntimeWarning\n",
      "      ProactorSelectorThreadWarning\n",
      "      UnknownTimezoneWarning\n",
      "      PEP440Warning\n",
      "    SyntaxWarning\n",
      "    UnicodeWarning\n",
      "    UserWarning\n",
      "      GetPassWarning\n",
      "      FormatterWarning\n",
      "    DeprecatedTzFormatWarning\n",
      "    PkgResourcesDeprecationWarning\n",
      "  ExceptionGroup\n",
      "  _OptionError\n",
      "  _Error\n",
      "  error\n",
      "  Error\n",
      "  SubprocessError\n",
      "    CalledProcessError\n",
      "    TimeoutExpired\n",
      "  ZMQBaseError\n",
      "    ZMQError\n",
      "      ContextTerminated\n",
      "      Again\n",
      "      InterruptedSystemCall\n",
      "    ZMQBindError\n",
      "    NotDone\n",
      "  Error\n",
      "  error\n",
      "  PickleError\n",
      "    PicklingError\n",
      "    UnpicklingError\n",
      "  _Stop\n",
      "  TokenError\n",
      "  StopTokenizing\n",
      "  Error\n",
      "    CancelledError\n",
      "    InvalidStateError\n",
      "  _GiveupOnSendfile\n",
      "  Incomplete\n",
      "  ClassFoundException\n",
      "  EndOfBlock\n",
      "  InvalidStateError\n",
      "  LimitOverrunError\n",
      "  QueueEmpty\n",
      "  QueueFull\n",
      "  error\n",
      "  LZMAError\n",
      "  RegistryError\n",
      "  _GiveupOnFastCopy\n",
      "  TraitError\n",
      "  Empty\n",
      "  Full\n",
      "  ArgumentError\n",
      "  COMError\n",
      "  ReturnValueIgnoredError\n",
      "  ArgumentError\n",
      "  ArgumentTypeError\n",
      "  ConfigError\n",
      "    ConfigLoaderError\n",
      "      ArgumentError\n",
      "    ConfigFileNotFound\n",
      "  ConfigurableError\n",
      "    MultipleInstanceError\n",
      "  ApplicationError\n",
      "  InvalidPortNumber\n",
      "  NoIPAddresses\n",
      "  Error\n",
      "  BadZipFile\n",
      "  LargeZipFile\n",
      "  MessageError\n",
      "    MessageParseError\n",
      "      HeaderParseError\n",
      "      BoundaryError\n",
      "    MultipartConversionError\n",
      "    CharsetError\n",
      "  DuplicateKernelError\n",
      "  ErrorDuringImport\n",
      "  NotOneValueFound\n",
      "  KnownIssue\n",
      "  VerifierFailure\n",
      "  CannotEval\n",
      "  OptionError\n",
      "  BdbQuit\n",
      "  Restart\n",
      "  FindCmdError\n",
      "  HomeDirError\n",
      "  ProfileDirError\n",
      "  IPythonCoreError\n",
      "    TryNext\n",
      "    UsageError\n",
      "    StdinNotImplementedError\n",
      "  InputRejected\n",
      "  GetoptError\n",
      "  ErrorToken\n",
      "  PrefilterError\n",
      "  AliasError\n",
      "    InvalidAliasError\n",
      "  Error\n",
      "    InterfaceError\n",
      "    DatabaseError\n",
      "      InternalError\n",
      "      OperationalError\n",
      "      ProgrammingError\n",
      "      IntegrityError\n",
      "      DataError\n",
      "      NotSupportedError\n",
      "  Warning\n",
      "  SpaceInInput\n",
      "  DOMException\n",
      "    IndexSizeErr\n",
      "    DomstringSizeErr\n",
      "    HierarchyRequestErr\n",
      "    WrongDocumentErr\n",
      "    InvalidCharacterErr\n",
      "    NoDataAllowedErr\n",
      "    NoModificationAllowedErr\n",
      "    NotFoundErr\n",
      "    NotSupportedErr\n",
      "    InuseAttributeErr\n",
      "    InvalidStateErr\n",
      "    SyntaxErr\n",
      "    InvalidModificationErr\n",
      "    NamespaceErr\n",
      "    InvalidAccessErr\n",
      "    ValidationErr\n",
      "  ValidationError\n",
      "  EditReadOnlyBuffer\n",
      "  _Retry\n",
      "  InvalidLayoutError\n",
      "  HeightIsUnknownError\n",
      "  GuardRejection\n",
      "  ParserSyntaxError\n",
      "  InternalParseError\n",
      "  _PositionUpdatingFinished\n",
      "  SimpleGetItemNotFound\n",
      "  UncaughtAttributeError\n",
      "  HasNoContext\n",
      "  ParamIssue\n",
      "  _JediError\n",
      "    InternalError\n",
      "    WrongVersion\n",
      "    RefactoringError\n",
      "  OnErrorLeaf\n",
      "  InvalidPythonEnvironment\n",
      "  HTTPException\n",
      "    NotConnected\n",
      "    InvalidURL\n",
      "    UnknownProtocol\n",
      "    UnknownTransferEncoding\n",
      "    UnimplementedFileMode\n",
      "    IncompleteRead\n",
      "    ImproperConnectionState\n",
      "      CannotSendRequest\n",
      "      CannotSendHeader\n",
      "      ResponseNotReady\n",
      "    BadStatusLine\n",
      "      RemoteDisconnected\n",
      "    LineTooLong\n",
      "  InteractivelyDefined\n",
      "  KillEmbedded\n",
      "  Error\n",
      "    NoSuchProcess\n",
      "      ZombieProcess\n",
      "    AccessDenied\n",
      "    TimeoutExpired\n",
      "  Error\n",
      "  TimeoutExpired\n",
      "  TimeoutAbandoned\n",
      "  KeyReuseError\n",
      "  UnknownKeyError\n",
      "  LeakedCallbackError\n",
      "  BadYieldError\n",
      "  ReturnValueIgnoredError\n",
      "  Return\n",
      "  QueueEmpty\n",
      "  QueueFull\n",
      "  DebuggerInitializationError\n",
      "  ExpatError\n",
      "  Error\n",
      "    ProtocolError\n",
      "    ResponseError\n",
      "    Fault\n",
      "  ParserSyntaxError\n",
      "  ResolutionError\n",
      "    VersionConflict\n",
      "      ContextualVersionConflict\n",
      "    DistributionNotFound\n",
      "    UnknownExtra\n",
      "  _Error\n",
      "  UnableToResolveVariableException\n",
      "  InvalidTypeInArgsException\n"
     ]
    }
   ],
   "source": [
    "def print_exception_hierarchy(exception_class, indent=0):\n",
    "    print(' ' * indent + exception_class.__name__)\n",
    "    for subclass in exception_class.__subclasses__():\n",
    "        print_exception_hierarchy(subclass, indent + 2)\n",
    "\n",
    "print(\"Python Exception Hierarchy:\")\n",
    "print_exception_hierarchy(Exception)"
   ]
  },
  {
   "cell_type": "markdown",
   "id": "6026f2be-09a1-45b5-9e32-0da7c25846ef",
   "metadata": {},
   "source": [
    "## Q3. What errors are defined in the ArithmeticError class? Explain any two with an example."
   ]
  },
  {
   "cell_type": "markdown",
   "id": "eb9bf71f-ee18-4f89-98c2-b9a6773c52ff",
   "metadata": {},
   "source": [
    "The ArithmeticError class in Python is a base class for arithmetic-related exceptions. It serves as a parent class for several specific arithmetic exception classes. Some of the errors defined in the ArithmeticError class include:\n",
    "\n",
    "1. **OverflowError**: Raised when the result of an arithmetic operation is    too large to be represented within the available memory or numeric      range.\n",
    "2. **ZeroDivisionError**: Raised when attempting to divide a number by        zero, which is not allowed in mathematics."
   ]
  },
  {
   "cell_type": "code",
   "execution_count": 2,
   "id": "1d562389-4f75-4eba-8e24-ddfda643f120",
   "metadata": {
    "tags": []
   },
   "outputs": [
    {
     "name": "stdout",
     "output_type": "stream",
     "text": [
      "Factorial: 402387260077093773543702433923003985719374864210714632543799910429938512398629020592044208486969404800479988610197196058631666872994808558901323829669944590997424504087073759918823627727188732519779505950995276120874975462497043601418278094646496291056393887437886487337119181045825783647849977012476632889835955735432513185323958463075557409114262417474349347553428646576611667797396668820291207379143853719588249808126867838374559731746136085379534524221586593201928090878297308431392844403281231558611036976801357304216168747609675871348312025478589320767169132448426236131412508780208000261683151027341827977704784635868170164365024153691398281264810213092761244896359928705114964975419909342221566832572080821333186116811553615836546984046708975602900950537616475847728421889679646244945160765353408198901385442487984959953319101723355556602139450399736280750137837615307127761926849034352625200015888535147331611702103968175921510907788019393178114194545257223865541461062892187960223838971476088506276862967146674697562911234082439208160153780889893964518263243671616762179168909779911903754031274622289988005195444414282012187361745992642956581746628302955570299024324153181617210465832036786906117260158783520751516284225540265170483304226143974286933061690897968482590125458327168226458066526769958652682272807075781391858178889652208164348344825993266043367660176999612831860788386150279465955131156552036093988180612138558600301435694527224206344631797460594682573103790084024432438465657245014402821885252470935190620929023136493273497565513958720559654228749774011413346962715422845862377387538230483865688976461927383814900140767310446640259899490222221765904339901886018566526485061799702356193897017860040811889729918311021171229845901641921068884387121855646124960798722908519296819372388642614839657382291123125024186649353143970137428531926649875337218940694281434118520158014123344828015051399694290153483077644569099073152433278288269864602789864321139083506217095002597389863554277196742822248757586765752344220207573630569498825087968928162753848863396909959826280956121450994871701244516461260379029309120889086942028510640182154399457156805941872748998094254742173582401063677404595741785160829230135358081840096996372524230560855903700624271243416909004153690105933983835777939410970027753472000000000000000000000000000000000000000000000000000000000000000000000000000000000000000000000000000000000000000000000000000000000000000000000000000000000000000000000000000000000000000000000000000000000000000000000000000000000000000000000000000000000\n"
     ]
    }
   ],
   "source": [
    "#OverflowError\n",
    "import math\n",
    "\n",
    "try:\n",
    "    result = math.factorial(1000)  # Calculate factorial of 1000\n",
    "    print(\"Factorial:\", result)\n",
    "except OverflowError as e:\n",
    "    print(\"Error:\", e)\n"
   ]
  },
  {
   "cell_type": "code",
   "execution_count": 3,
   "id": "9776d872-1b62-4baa-8b13-e0fb001410ff",
   "metadata": {
    "tags": []
   },
   "outputs": [
    {
     "name": "stdout",
     "output_type": "stream",
     "text": [
      "Error: division by zero\n"
     ]
    }
   ],
   "source": [
    "# ZeroDivisionError\n",
    "try:\n",
    "    result = 10 / 0  # Attempt to divide by zero\n",
    "    print(\"Result:\", result)\n",
    "except ZeroDivisionError as e:\n",
    "    print(\"Error:\", e)\n"
   ]
  },
  {
   "cell_type": "markdown",
   "id": "aa95f351-1c83-4ba9-9489-b235d88739d8",
   "metadata": {},
   "source": [
    "## Q4. Why LookupError class is used? Explain with an example KeyError and IndexError."
   ]
  },
  {
   "cell_type": "markdown",
   "id": "acc5976c-6655-4ec7-b828-4a031c05dfc8",
   "metadata": {},
   "source": [
    "The LookupError class in Python serves as a base class for exceptions that occur when a key or index used to access a collection (such as a dictionary or list) is not found. It is a parent class for specific lookup-related exceptions, including KeyError and IndexError."
   ]
  },
  {
   "cell_type": "markdown",
   "id": "c3954c62-2791-4896-be61-01421eed7682",
   "metadata": {},
   "source": [
    "**KeyError**:\n",
    "KeyError is raised when a dictionary key is not found in a dictionary.\n",
    "This error occurs when attempting to access a dictionary using a key that does not exist in the dictionary."
   ]
  },
  {
   "cell_type": "code",
   "execution_count": 4,
   "id": "7f6c36c9-e065-446d-84e0-1241a105b7da",
   "metadata": {
    "tags": []
   },
   "outputs": [
    {
     "name": "stdout",
     "output_type": "stream",
     "text": [
      "Error: 'd'\n"
     ]
    }
   ],
   "source": [
    "my_dict = {'a': 1, 'b': 2, 'c': 3}\n",
    "\n",
    "try:\n",
    "    value = my_dict['d']  # Accessing a non-existent key\n",
    "    print(\"Value:\", value)\n",
    "except KeyError as e:\n",
    "    print(\"Error:\", e)\n"
   ]
  },
  {
   "cell_type": "markdown",
   "id": "70b20c60-a141-49f9-8004-bab8b5ad99ce",
   "metadata": {},
   "source": [
    "**IndexError**:\n",
    "IndexError is raised when a sequence (such as a list or tuple) index is out of range.\n",
    "This error occurs when attempting to access an index that is beyond the bounds of the sequence."
   ]
  },
  {
   "cell_type": "code",
   "execution_count": 5,
   "id": "658b8fae-c7ef-4e60-bafe-2f5d087f8b5f",
   "metadata": {
    "tags": []
   },
   "outputs": [
    {
     "name": "stdout",
     "output_type": "stream",
     "text": [
      "Error: list index out of range\n"
     ]
    }
   ],
   "source": [
    "my_list = [1, 2, 3, 4, 5]\n",
    "\n",
    "try:\n",
    "    value = my_list[10]  # Accessing an index out of range\n",
    "    print(\"Value:\", value)\n",
    "except IndexError as e:\n",
    "    print(\"Error:\", e)\n"
   ]
  },
  {
   "cell_type": "markdown",
   "id": "8e16b00d-6150-4887-ab30-148caad00147",
   "metadata": {},
   "source": [
    "## Q5. Explain ImportError. What is ModuleNotFoundError?"
   ]
  },
  {
   "cell_type": "markdown",
   "id": "30f1355b-c9f4-411b-b229-8a85736eea43",
   "metadata": {},
   "source": [
    "**ImportError**:\n",
    "1. ImportError is raised when an import statement fails to import a        module.\n",
    "2. This error can occur for various reasons, such as the module not being installed, the module file not being found, or an error occurring during the execution of the module's code.\n",
    "3. ImportError is a broad exception that can occur for different reasons, so it serves as a general catch-all for import-related errors."
   ]
  },
  {
   "cell_type": "code",
   "execution_count": 7,
   "id": "c24af639-480d-439b-8909-e9aa7adb11d6",
   "metadata": {
    "tags": []
   },
   "outputs": [
    {
     "name": "stdout",
     "output_type": "stream",
     "text": [
      "Error: No module named 'non_existent_module'\n"
     ]
    }
   ],
   "source": [
    "try:\n",
    "    import non_existent_module  # Attempting to import a non-existent module\n",
    "except ImportError as e:\n",
    "    print(\"Error:\", e)"
   ]
  },
  {
   "cell_type": "markdown",
   "id": "f2f83a18-a1f6-4049-907f-c65194a7fd9f",
   "metadata": {},
   "source": [
    "**ModuleNotFoundError**:\n",
    "1. ModuleNotFoundError is a subclass of ImportError introduced in Python 3.6.\n",
    "2. It is specifically raised when a module could not be found during the import process.\n",
    "3. Unlike ImportError, ModuleNotFoundError provides a more specific error message indicating that the module could not be located."
   ]
  },
  {
   "cell_type": "code",
   "execution_count": 8,
   "id": "e2622f0a-970b-49ff-b993-20127cf346ad",
   "metadata": {
    "tags": []
   },
   "outputs": [
    {
     "name": "stdout",
     "output_type": "stream",
     "text": [
      "Error: No module named 'non_existent_module'\n"
     ]
    }
   ],
   "source": [
    "try:\n",
    "    import non_existent_module  # Attempting to import a non-existent module\n",
    "except ModuleNotFoundError as e:\n",
    "    print(\"Error:\", e)\n"
   ]
  },
  {
   "cell_type": "markdown",
   "id": "9a24c54f-ecd5-43c9-88a5-88bd7f691fc6",
   "metadata": {},
   "source": [
    "## Q6. List down some best practices for exception handling in python. "
   ]
  },
  {
   "cell_type": "markdown",
   "id": "63404561-9b16-446d-9a8f-ae1bdb85d1b6",
   "metadata": {},
   "source": [
    "1. **Catch Specific Exceptions**: Catch only the exceptions you expect and handle them appropriately. Avoid using broad except clauses that catch all exceptions (except Exception:) unless necessary.\n",
    "\n",
    "2. **Use Multiple Except Blocks**: Use multiple except blocks to handle different types of exceptions separately. This allows you to implement specific error recovery strategies for different error conditions.\n",
    "\n",
    "3. **Handle Exceptions Gracefully**: Handle exceptions gracefully by providing informative error messages or logging details about the exception. This helps in debugging and troubleshooting issues.\n",
    "\n",
    "4. **Avoid Bare Except Clauses**: Avoid using bare except clauses without specifying the exception type. Bare except clauses can catch unexpected errors and make it harder to identify and debug issues.\n",
    "\n",
    "5. **Use Finally Blocks for Cleanup**: Use finally blocks to ensure that cleanup actions, such as closing files or releasing resources, are always executed, regardless of whether an exception occurs.\n",
    "\n",
    "6. **Raise Exceptions Sparingly**: Raise exceptions only when necessary and appropriate. Use exceptions to indicate error conditions that require special handling, rather than for flow control or routine program logic.\n",
    "\n",
    "7. **Prefer Specific Exception Classes**: Prefer using specific exception classes provided by Python or custom exception classes tailored to your application domain. This helps in providing more meaningful error messages and allows for finer-grained error handling.\n",
    "\n",
    "8. **Keep Error Handling Local**: Keep error handling code localized to the point where exceptions occur. Avoid propagating exceptions too far up the call stack unless necessary. This improves code readability and maintainability.\n",
    "\n",
    "9. **Use Context Managers**: Use context managers (with statements) for resource management, such as file I/O operations. Context managers ensure that resources are properly acquired and released, even in the presence of exceptions.\n",
    "\n",
    "10. **Test Exception Handling Code**: Test exception handling code as part of your testing strategy to ensure that it behaves as expected under different error conditions. This helps in identifying and fixing issues related to error handling."
   ]
  },
  {
   "cell_type": "code",
   "execution_count": null,
   "id": "ca42c44f-df2b-4887-bd8f-c0f19701355c",
   "metadata": {},
   "outputs": [],
   "source": []
  }
 ],
 "metadata": {
  "kernelspec": {
   "display_name": "Python 3 (ipykernel)",
   "language": "python",
   "name": "python3"
  },
  "language_info": {
   "codemirror_mode": {
    "name": "ipython",
    "version": 3
   },
   "file_extension": ".py",
   "mimetype": "text/x-python",
   "name": "python",
   "nbconvert_exporter": "python",
   "pygments_lexer": "ipython3",
   "version": "3.11.5"
  }
 },
 "nbformat": 4,
 "nbformat_minor": 5
}
