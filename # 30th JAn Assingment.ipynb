{
 "cells": [
  {
   "cell_type": "markdown",
   "id": "255534d5-62d2-4104-a8ef-3e9a11e428f1",
   "metadata": {},
   "source": [
    "Q.1"
   ]
  },
  {
   "cell_type": "code",
   "execution_count": null,
   "id": "592170d5-61f1-45ca-ac61-5c451fecb5ee",
   "metadata": {},
   "outputs": [],
   "source": [
    "marks=int(input(\"enter your marks\"))\n",
    "if marks>90:\n",
    "    print(\"you achieve a grade A\")\n",
    "elif marks>80 and marks<=90:\n",
    "    print(\"you achieve a grade B\")\n",
    "elif marks>=60 and marks<=80:\n",
    "    print(\"you achieve a grade C\")\n",
    "else:\n",
    "    print(\"you achieve a grade D\")"
   ]
  },
  {
   "cell_type": "markdown",
   "id": "2fb27334-28b2-4d1e-918e-411037b79cbc",
   "metadata": {},
   "source": [
    "Q.2"
   ]
  },
  {
   "cell_type": "code",
   "execution_count": null,
   "id": "5242fe7e-41fd-4ad3-8a5c-6615d823bff8",
   "metadata": {},
   "outputs": [],
   "source": [
    "price=int(input(\"Enter your cost price\"))\n",
    "if price>100000:\n",
    "    print(\"You have to pay 15% tax\")\n",
    "elif price>50000 and price<=100000:\n",
    "    print(\"you have to pay 10% tax\")\n",
    "else:\n",
    "    print(\"you have to pay 5% tax\")"
   ]
  },
  {
   "cell_type": "markdown",
   "id": "08b8d9a0-2e56-4a5f-a3e2-bc6e7ff32cba",
   "metadata": {},
   "source": [
    "Q.3"
   ]
  },
  {
   "cell_type": "code",
   "execution_count": null,
   "id": "96c4114c-5630-425d-ac8e-a922cc6c58c7",
   "metadata": {},
   "outputs": [],
   "source": [
    "D={\n",
    "'Delhi':'Red Fort',\n",
    "'Agra':'Taj Mahal',\n",
    "'Jaipur':'Jal Mahal',\n",
    "}\n",
    "Monument=D.get(input('Enter City'))\n",
    "print(Monument)\n"
   ]
  },
  {
   "cell_type": "markdown",
   "id": "3e3b9484-efb5-4015-a79b-13af2673d431",
   "metadata": {},
   "source": [
    "Q.4"
   ]
  },
  {
   "cell_type": "code",
   "execution_count": 8,
   "id": "1f27ce57-26eb-44dd-9ea4-8aa46d8488b1",
   "metadata": {},
   "outputs": [
    {
     "name": "stdin",
     "output_type": "stream",
     "text": [
      "Enter a number:  100\n"
     ]
    },
    {
     "data": {
      "text/plain": [
       "3"
      ]
     },
     "execution_count": 8,
     "metadata": {},
     "output_type": "execute_result"
    }
   ],
   "source": [
    "given_number=int(input(\"Enter a number: \"))\n",
    "count=0\n",
    "while True:\n",
    "    if given_number%3==0:\n",
    "                  given_number=given_number/3\n",
    "                  count +=1\n",
    "    if given_number%3 !=0:\n",
    "                  given_number-=1\n",
    "    elif given_number<= 10:\n",
    "                  break\n",
    "count\n",
    "                  "
   ]
  },
  {
   "cell_type": "markdown",
   "id": "8cc5d0ef-a523-48ad-8d38-57eeb6e13fd8",
   "metadata": {},
   "source": [
    "Q.5"
   ]
  },
  {
   "cell_type": "markdown",
   "id": "d9ec4111-f9ad-4b4b-98fc-92244e38b919",
   "metadata": {},
   "source": [
    "Python While Loop is used to execute a block of statements repeatedly until a given condition is satisfied. And when the condition becomes false, the line immediately after the loop in the program is executed.\n",
    "\n",
    "While loop falls under the category of indefinite iteration. Indefinite iteration means that the number of times the loop is executed isn’t specified explicitly in advance. \n",
    "\n",
    "Statements represent all the statements indented by the same number of character spaces after a programming construct are considered to be part of a single block of code. Python uses indentation as its method of grouping statements. When a while loop is executed, expr is first evaluated in a Boolean context and if it is true, the loop body is executed. Then the expr is checked again, if it is still true then the body is executed again and this continues until the expression becomes false."
   ]
  },
  {
   "cell_type": "code",
   "execution_count": 1,
   "id": "f2c77088-1422-4407-a987-8c00488c54c7",
   "metadata": {},
   "outputs": [
    {
     "name": "stdout",
     "output_type": "stream",
     "text": [
      "Hello Geek\n",
      "Hello Geek\n",
      "Hello Geek\n"
     ]
    }
   ],
   "source": [
    "count = 0\n",
    "while (count < 3):\n",
    "    count = count + 1\n",
    "    print(\"Hello Geek\")"
   ]
  },
  {
   "cell_type": "markdown",
   "id": "e9607f04-4242-45ef-943b-1b07e61fcf63",
   "metadata": {},
   "source": [
    "Q.6"
   ]
  },
  {
   "cell_type": "code",
   "execution_count": 2,
   "id": "79cacf27-54c4-4b3c-b15e-626c7324b08b",
   "metadata": {},
   "outputs": [
    {
     "name": "stdout",
     "output_type": "stream",
     "text": [
      "1 \n",
      "1 2 \n",
      "1 2 3 \n",
      "1 2 3 4 \n",
      "1 2 3 4 5 \n"
     ]
    }
   ],
   "source": [
    "i=1\n",
    "while i<=5:\n",
    "    j=1\n",
    "    while j<=i:\n",
    "        print(j,end=\" \")\n",
    "        j=j+1\n",
    "    print(\"\")\n",
    "    i=i+1"
   ]
  },
  {
   "cell_type": "code",
   "execution_count": 3,
   "id": "28d9c890-5474-42df-b87a-ec1a288a06f5",
   "metadata": {},
   "outputs": [
    {
     "name": "stdin",
     "output_type": "stream",
     "text": [
      "What is the synonym of 'Beautiful':  adge\n"
     ]
    },
    {
     "name": "stdout",
     "output_type": "stream",
     "text": [
      "Incorrect!!\n",
      "You have 2 chances\n"
     ]
    },
    {
     "name": "stdin",
     "output_type": "stream",
     "text": [
      "What is the synonym of 'Beautiful':  pretty\n"
     ]
    },
    {
     "name": "stdout",
     "output_type": "stream",
     "text": [
      "Correct!!\n"
     ]
    }
   ],
   "source": [
    "synonyms=['pretty','alluring','lovely']\n",
    "counter=3\n",
    "while counter>0:\n",
    "  answer=input(\"What is the synonym of 'Beautiful': \")\n",
    "  status=True\n",
    "  i=0\n",
    "  while i<len(synonyms):\n",
    "    if(synonyms[i]==answer):\n",
    "       print(\"Correct!!\")\n",
    "       counter=-1\n",
    "       break\n",
    "    else:\n",
    "       status=False\n",
    "    i=i+1\n",
    "  if(status==False):\n",
    "    print(\"Incorrect!!\")\n",
    "    counter=counter-1\n",
    "    print(f\"You have {counter} chances\")"
   ]
  },
  {
   "cell_type": "code",
   "execution_count": 7,
   "id": "d425018b-3ec3-4322-86d1-ca423594f457",
   "metadata": {},
   "outputs": [
    {
     "name": "stdout",
     "output_type": "stream",
     "text": [
      "1 * 1 = 1\n",
      "1 * 2 = 2\n",
      "1 * 3 = 3\n",
      "1 * 4 = 4\n",
      "1 * 5 = 5\n",
      "\n",
      "\n",
      "2 * 1 = 2\n",
      "2 * 2 = 4\n",
      "2 * 3 = 6\n",
      "2 * 4 = 8\n",
      "2 * 5 = 10\n",
      "\n",
      "\n",
      "3 * 1 = 3\n",
      "3 * 2 = 6\n",
      "3 * 3 = 9\n",
      "3 * 4 = 12\n",
      "3 * 5 = 15\n",
      "\n",
      "\n"
     ]
    }
   ],
   "source": [
    "i=1\n",
    "while i<=3:\n",
    "  j=1\n",
    "  while j<=5:\n",
    "        print (i,\"*\",j,'=',i*j)\n",
    "        j+=1\n",
    "  i+=1\n",
    "  print (\"\\n\")"
   ]
  },
  {
   "cell_type": "code",
   "execution_count": null,
   "id": "09158523-d3cc-4e1b-a250-469818f31d78",
   "metadata": {},
   "outputs": [],
   "source": []
  },
  {
   "cell_type": "markdown",
   "id": "75b633cc-aaa6-457e-8c83-450ba327597e",
   "metadata": {},
   "source": [
    "Q.7"
   ]
  },
  {
   "cell_type": "code",
   "execution_count": 10,
   "id": "63d8f406-167c-4f0c-8014-4c39dfbc8a0f",
   "metadata": {},
   "outputs": [
    {
     "name": "stdout",
     "output_type": "stream",
     "text": [
      "10\n",
      "9\n",
      "8\n",
      "7\n",
      "6\n",
      "5\n",
      "4\n",
      "3\n",
      "2\n",
      "1\n"
     ]
    }
   ],
   "source": [
    "i=10\n",
    "while i>0:\n",
    "    print(i)\n",
    "    i=i-1"
   ]
  },
  {
   "cell_type": "code",
   "execution_count": null,
   "id": "96aee671-1b56-4c17-866b-97d044da05f1",
   "metadata": {},
   "outputs": [],
   "source": []
  }
 ],
 "metadata": {
  "kernelspec": {
   "display_name": "Python 3 (ipykernel)",
   "language": "python",
   "name": "python3"
  },
  "language_info": {
   "codemirror_mode": {
    "name": "ipython",
    "version": 3
   },
   "file_extension": ".py",
   "mimetype": "text/x-python",
   "name": "python",
   "nbconvert_exporter": "python",
   "pygments_lexer": "ipython3",
   "version": "3.10.8"
  }
 },
 "nbformat": 4,
 "nbformat_minor": 5
}
