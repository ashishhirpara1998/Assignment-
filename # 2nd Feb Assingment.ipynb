{
 "cells": [
  {
   "cell_type": "code",
   "execution_count": null,
   "id": "55a1dc39-18f0-4af1-a3a0-419b7f1781c1",
   "metadata": {},
   "outputs": [],
   "source": [
    "Q.1"
   ]
  },
  {
   "cell_type": "code",
   "execution_count": null,
   "id": "0f21c362-9a05-4062-a937-7e9bd1df0438",
   "metadata": {},
   "outputs": [],
   "source": [
    "(1).For Loop: A for loop is an iteration method that is best used when you know the number of iterations ahead of time. \n",
    "It’s always followed by the initialization, expression and increment statements.\n",
    "(2).While Loop: A while loop is an iteration method that is best used when you don't know the number of iterations ahead of time. \n",
    "The contents of the loop are executed as long as the expression evaluates to true.\n"
   ]
  },
  {
   "cell_type": "code",
   "execution_count": 1,
   "id": "8dd33377-f1fc-4fa2-a555-a6d0305462f4",
   "metadata": {},
   "outputs": [
    {
     "name": "stdout",
     "output_type": "stream",
     "text": [
      "1\n",
      "2\n",
      "3\n",
      "4\n",
      "5\n",
      "6\n",
      "7\n",
      "8\n",
      "9\n",
      "10\n"
     ]
    }
   ],
   "source": [
    "n=range(1,11)\n",
    "for i in n:\n",
    "    print(i)"
   ]
  },
  {
   "cell_type": "code",
   "execution_count": 2,
   "id": "a0a2c227-6391-45f9-80fc-a84e10205e06",
   "metadata": {},
   "outputs": [
    {
     "name": "stdout",
     "output_type": "stream",
     "text": [
      "1\n",
      "2\n",
      "3\n",
      "4\n",
      "5\n",
      "6\n",
      "7\n",
      "8\n",
      "9\n",
      "10\n"
     ]
    }
   ],
   "source": [
    "i=1\n",
    "while i<=10:\n",
    "    print(i)\n",
    "    i +=1"
   ]
  },
  {
   "cell_type": "code",
   "execution_count": null,
   "id": "d1284185-7244-4b03-a8da-8912b3bef9be",
   "metadata": {},
   "outputs": [],
   "source": []
  },
  {
   "cell_type": "code",
   "execution_count": null,
   "id": "6375db7b-f5f6-44a4-8f94-2664d99a20ab",
   "metadata": {},
   "outputs": [],
   "source": [
    "Q.2"
   ]
  },
  {
   "cell_type": "code",
   "execution_count": 4,
   "id": "a7fa0ba6-80d0-49d8-b6b8-89a3ed70cb1e",
   "metadata": {},
   "outputs": [
    {
     "data": {
      "text/plain": [
       "55"
      ]
     },
     "execution_count": 4,
     "metadata": {},
     "output_type": "execute_result"
    }
   ],
   "source": [
    "num=range(1,11)\n",
    "total=0\n",
    "for i in num:\n",
    "    total=total+i\n",
    "total"
   ]
  },
  {
   "cell_type": "code",
   "execution_count": 5,
   "id": "42edbb58-1565-4c1d-8a27-4a67ae435df7",
   "metadata": {},
   "outputs": [
    {
     "data": {
      "text/plain": [
       "55"
      ]
     },
     "execution_count": 5,
     "metadata": {},
     "output_type": "execute_result"
    }
   ],
   "source": [
    "num=range(1,11)\n",
    "total=0\n",
    "i=1\n",
    "while i <= len(num):\n",
    "    total=total+i\n",
    "    i=i+1\n",
    "total"
   ]
  },
  {
   "cell_type": "code",
   "execution_count": null,
   "id": "3cc61731-7127-4402-8153-72d01cd32a81",
   "metadata": {},
   "outputs": [],
   "source": []
  },
  {
   "cell_type": "code",
   "execution_count": null,
   "id": "38b78b47-7de1-4c15-99fa-ab7167fc1f47",
   "metadata": {},
   "outputs": [],
   "source": [
    "Q.3"
   ]
  },
  {
   "cell_type": "code",
   "execution_count": 3,
   "id": "5ccf5cac-9720-4ba5-9f92-21c451eb5669",
   "metadata": {},
   "outputs": [
    {
     "name": "stdin",
     "output_type": "stream",
     "text": [
      "Enter your elctricity unit 125\n"
     ]
    },
    {
     "name": "stdout",
     "output_type": "stream",
     "text": [
      "your unit is: 125 and your total electricity bill is: 562.5 ₹\n"
     ]
    }
   ],
   "source": [
    "unit=int(input(\"Enter your elctricity unit\"))\n",
    "if i<=100:\n",
    "    print(f'your unit is: {unit} and your total electricity bill is: {4.5*unit} ₹')\n",
    "elif i>100 and i<=200:\n",
    "    print(f'your unit is:{unit} and your electricity bill is: {6*unit} ₹')\n",
    "elif i>200 and i<=300:\n",
    "    print(\"your unit is:{unit} and your electricity bill is: {10*unit} ₹\")\n",
    "else:\n",
    "    print(\"your unit is:{unit} and your electrucity bill is: {20*unit} ₹\")"
   ]
  },
  {
   "cell_type": "code",
   "execution_count": null,
   "id": "1c839d81-7378-40e9-8cb9-335cbb32ca96",
   "metadata": {},
   "outputs": [],
   "source": []
  },
  {
   "cell_type": "code",
   "execution_count": null,
   "id": "c6f5e1e3-db72-45b6-928a-3ba57ff70a0d",
   "metadata": {},
   "outputs": [],
   "source": [
    "Q.4"
   ]
  },
  {
   "cell_type": "code",
   "execution_count": 6,
   "id": "f5b8da1f-30b7-4a19-b684-58aa26def0dd",
   "metadata": {},
   "outputs": [
    {
     "data": {
      "text/plain": [
       "[8,\n",
       " 64,\n",
       " 125,\n",
       " 216,\n",
       " 512,\n",
       " 1000,\n",
       " 1728,\n",
       " 2744,\n",
       " 3375,\n",
       " 4096,\n",
       " 5832,\n",
       " 8000,\n",
       " 10648,\n",
       " 13824,\n",
       " 15625,\n",
       " 17576,\n",
       " 21952,\n",
       " 27000,\n",
       " 32768,\n",
       " 39304,\n",
       " 42875,\n",
       " 46656,\n",
       " 54872,\n",
       " 64000,\n",
       " 74088,\n",
       " 85184,\n",
       " 91125,\n",
       " 97336,\n",
       " 110592,\n",
       " 125000,\n",
       " 140608,\n",
       " 157464,\n",
       " 166375,\n",
       " 175616,\n",
       " 195112,\n",
       " 216000,\n",
       " 238328,\n",
       " 262144,\n",
       " 274625,\n",
       " 287496,\n",
       " 314432,\n",
       " 343000,\n",
       " 373248,\n",
       " 405224,\n",
       " 421875,\n",
       " 438976,\n",
       " 474552,\n",
       " 512000,\n",
       " 551368,\n",
       " 592704,\n",
       " 614125,\n",
       " 636056,\n",
       " 681472,\n",
       " 729000,\n",
       " 778688,\n",
       " 830584,\n",
       " 857375,\n",
       " 884736,\n",
       " 941192,\n",
       " 1000000]"
      ]
     },
     "execution_count": 6,
     "metadata": {},
     "output_type": "execute_result"
    }
   ],
   "source": [
    "l=list(range(1,101))\n",
    "cube=[]\n",
    "for i in l:\n",
    "    if (i**3)%4==0 or (i**3)%5==0:\n",
    "        cube.append(i**3)\n",
    "cube"
   ]
  },
  {
   "cell_type": "code",
   "execution_count": 7,
   "id": "010a5873-5f74-433e-bdb2-b7bea0c98a6e",
   "metadata": {},
   "outputs": [
    {
     "data": {
      "text/plain": [
       "[8,\n",
       " 64,\n",
       " 125,\n",
       " 216,\n",
       " 512,\n",
       " 1000,\n",
       " 1728,\n",
       " 2744,\n",
       " 3375,\n",
       " 4096,\n",
       " 5832,\n",
       " 8000,\n",
       " 10648,\n",
       " 13824,\n",
       " 15625,\n",
       " 17576,\n",
       " 21952,\n",
       " 27000,\n",
       " 32768,\n",
       " 39304,\n",
       " 42875,\n",
       " 46656,\n",
       " 54872,\n",
       " 64000,\n",
       " 74088,\n",
       " 85184,\n",
       " 91125,\n",
       " 97336,\n",
       " 110592,\n",
       " 125000,\n",
       " 140608,\n",
       " 157464,\n",
       " 166375,\n",
       " 175616,\n",
       " 195112,\n",
       " 216000,\n",
       " 238328,\n",
       " 262144,\n",
       " 274625,\n",
       " 287496,\n",
       " 314432,\n",
       " 343000,\n",
       " 373248,\n",
       " 405224,\n",
       " 421875,\n",
       " 438976,\n",
       " 474552,\n",
       " 512000,\n",
       " 551368,\n",
       " 592704,\n",
       " 614125,\n",
       " 636056,\n",
       " 681472,\n",
       " 729000,\n",
       " 778688,\n",
       " 830584,\n",
       " 857375,\n",
       " 884736,\n",
       " 941192,\n",
       " 1000000]"
      ]
     },
     "execution_count": 7,
     "metadata": {},
     "output_type": "execute_result"
    }
   ],
   "source": [
    "l=list(range(1,101))\n",
    "cube=[]\n",
    "i=1\n",
    "while i < len(l)+1:\n",
    "    if (i**3)%4==0 or (i**3)%5==0:\n",
    "        cube.append(i**3)\n",
    "    i=i+1\n",
    "cube"
   ]
  },
  {
   "cell_type": "code",
   "execution_count": null,
   "id": "2668c53d-e839-4e44-afb9-ea356074240a",
   "metadata": {},
   "outputs": [],
   "source": []
  },
  {
   "cell_type": "code",
   "execution_count": null,
   "id": "7db54cda-af95-4615-8641-0bd876905a0c",
   "metadata": {},
   "outputs": [],
   "source": [
    "Q.5"
   ]
  },
  {
   "cell_type": "code",
   "execution_count": 8,
   "id": "3cd99e64-ce86-4429-8b99-b883ccad9ff0",
   "metadata": {},
   "outputs": [
    {
     "name": "stdout",
     "output_type": "stream",
     "text": [
      "i:3\n",
      "a:4\n",
      "o:2\n",
      "e:3\n"
     ]
    }
   ],
   "source": [
    "s = \"I want to become a data scientist\"\n",
    "string=s.lower()\n",
    "count=''\n",
    "for i in range(len(string)):\n",
    "    if string[i]=='a' or string[i]=='e' or string[i]=='i' or string[i]=='o' or string[i]=='u':\n",
    "        if string[i] not in count:\n",
    "            count +=string[i]\n",
    "            print(f'{string[i]}:{string.count(string[i])}')\n",
    "        "
   ]
  },
  {
   "cell_type": "code",
   "execution_count": null,
   "id": "ad63c01f-9850-444f-a0a1-bc1bb01fbad9",
   "metadata": {},
   "outputs": [],
   "source": []
  }
 ],
 "metadata": {
  "kernelspec": {
   "display_name": "Python 3 (ipykernel)",
   "language": "python",
   "name": "python3"
  },
  "language_info": {
   "codemirror_mode": {
    "name": "ipython",
    "version": 3
   },
   "file_extension": ".py",
   "mimetype": "text/x-python",
   "name": "python",
   "nbconvert_exporter": "python",
   "pygments_lexer": "ipython3",
   "version": "3.10.8"
  }
 },
 "nbformat": 4,
 "nbformat_minor": 5
}
