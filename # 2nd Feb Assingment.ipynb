{
 "cells": [
  {
   "cell_type": "code",
   "execution_count": null,
   "id": "55a1dc39-18f0-4af1-a3a0-419b7f1781c1",
   "metadata": {},
   "outputs": [],
   "source": [
    "Q.1"
   ]
  },
  {
   "cell_type": "code",
   "execution_count": null,
   "id": "0f21c362-9a05-4062-a937-7e9bd1df0438",
   "metadata": {},
   "outputs": [],
   "source": [
    "For Loop: A for loop is an iteration method that is best used when you know the number of iterations ahead of time. It’s always followed by the initialization, expression and increment statements.\n",
    "While Loop: A while loop is an iteration method that is best used when you don't know the number of iterations ahead of time. The contents of the loop are executed as long as the expression evaluates to true.\n"
   ]
  },
  {
   "cell_type": "code",
   "execution_count": 1,
   "id": "8dd33377-f1fc-4fa2-a555-a6d0305462f4",
   "metadata": {},
   "outputs": [
    {
     "name": "stdout",
     "output_type": "stream",
     "text": [
      "1\n",
      "2\n",
      "3\n",
      "4\n",
      "5\n",
      "6\n",
      "7\n",
      "8\n",
      "9\n",
      "10\n"
     ]
    }
   ],
   "source": [
    "n=range(1,11)\n",
    "for i in n:\n",
    "    print(i)"
   ]
  },
  {
   "cell_type": "code",
   "execution_count": 2,
   "id": "a0a2c227-6391-45f9-80fc-a84e10205e06",
   "metadata": {},
   "outputs": [
    {
     "name": "stdout",
     "output_type": "stream",
     "text": [
      "1\n",
      "2\n",
      "3\n",
      "4\n",
      "5\n",
      "6\n",
      "7\n",
      "8\n",
      "9\n",
      "10\n"
     ]
    }
   ],
   "source": [
    "i=1\n",
    "while i<=10:\n",
    "    print(i)\n",
    "    i +=1"
   ]
  },
  {
   "cell_type": "code",
   "execution_count": null,
   "id": "6375db7b-f5f6-44a4-8f94-2664d99a20ab",
   "metadata": {},
   "outputs": [],
   "source": [
    "Q.2"
   ]
  },
  {
   "cell_type": "code",
   "execution_count": 4,
   "id": "a7fa0ba6-80d0-49d8-b6b8-89a3ed70cb1e",
   "metadata": {},
   "outputs": [
    {
     "data": {
      "text/plain": [
       "55"
      ]
     },
     "execution_count": 4,
     "metadata": {},
     "output_type": "execute_result"
    }
   ],
   "source": [
    "num=range(1,11)\n",
    "total=0\n",
    "for i in num:\n",
    "    total=total+i\n",
    "total"
   ]
  },
  {
   "cell_type": "code",
   "execution_count": 5,
   "id": "42edbb58-1565-4c1d-8a27-4a67ae435df7",
   "metadata": {},
   "outputs": [
    {
     "data": {
      "text/plain": [
       "55"
      ]
     },
     "execution_count": 5,
     "metadata": {},
     "output_type": "execute_result"
    }
   ],
   "source": [
    "num=range(1,11)\n",
    "total=0\n",
    "i=1\n",
    "while i <= len(num):\n",
    "    total=total+i\n",
    "    i=i+1\n",
    "total"
   ]
  },
  {
   "cell_type": "code",
   "execution_count": null,
   "id": "38b78b47-7de1-4c15-99fa-ab7167fc1f47",
   "metadata": {},
   "outputs": [],
   "source": [
    "Q.3"
   ]
  },
  {
   "cell_type": "code",
   "execution_count": 3,
   "id": "5ccf5cac-9720-4ba5-9f92-21c451eb5669",
   "metadata": {},
   "outputs": [
    {
     "name": "stdin",
     "output_type": "stream",
     "text": [
      "Enter your elctricity unit 125\n"
     ]
    },
    {
     "name": "stdout",
     "output_type": "stream",
     "text": [
      "your unit is: 125 and your total electricity bill is: 562.5 ₹\n"
     ]
    }
   ],
   "source": [
    "unit=int(input(\"Enter your elctricity unit\"))\n",
    "if i<=100:\n",
    "    print(f'your unit is: {unit} and your total electricity bill is: {4.5*unit} ₹')\n",
    "elif i>100 and i<=200:\n",
    "    print(f'your unit is:{unit} and your electricity bill is: {6*unit} ₹')\n",
    "elif i>200 and i<=300:\n",
    "    print(\"your unit is:{unit} and your electricity bill is: {10*unit} ₹\")\n",
    "else:\n",
    "    print(\"your unit is:{unit} and your electrucity bill is: {20*unit} ₹\")"
   ]
  },
  {
   "cell_type": "code",
   "execution_count": null,
   "id": "c6f5e1e3-db72-45b6-928a-3ba57ff70a0d",
   "metadata": {},
   "outputs": [],
   "source": [
    "Q.3"
   ]
  },
  {
   "cell_type": "code",
   "execution_count": null,
   "id": "f5b8da1f-30b7-4a19-b684-58aa26def0dd",
   "metadata": {},
   "outputs": [],
   "source": []
  }
 ],
 "metadata": {
  "kernelspec": {
   "display_name": "Python 3 (ipykernel)",
   "language": "python",
   "name": "python3"
  },
  "language_info": {
   "codemirror_mode": {
    "name": "ipython",
    "version": 3
   },
   "file_extension": ".py",
   "mimetype": "text/x-python",
   "name": "python",
   "nbconvert_exporter": "python",
   "pygments_lexer": "ipython3",
   "version": "3.10.8"
  }
 },
 "nbformat": 4,
 "nbformat_minor": 5
}
