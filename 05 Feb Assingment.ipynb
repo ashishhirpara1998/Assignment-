{
 "cells": [
  {
   "cell_type": "markdown",
   "id": "940c9ba5-d817-43b4-8571-a0d241476ac9",
   "metadata": {},
   "source": [
    "Q1. Explain Class and Object with respect to Object-Oriented Programming. Give a suitable example."
   ]
  },
  {
   "cell_type": "markdown",
   "id": "3926b41f-9265-4f3c-9623-643709b6ef50",
   "metadata": {},
   "source": [
    "CLASS=In OOP, a class serves as a blueprint for its instances (objects), as such, is the primary means for abstraction. The class provides a set of behavior in the form of methods and attributes. The methods and attributes are common to all instances of that class.\n",
    "\n",
    "OBJECT=objects also known as instances are known to be the realization of the blueprint, containing actual values."
   ]
  },
  {
   "cell_type": "code",
   "execution_count": 1,
   "id": "dee46b2e-5542-4ec3-b8e3-00e689c11f62",
   "metadata": {},
   "outputs": [],
   "source": [
    "class add_sub:\n",
    "    def __init__(self,x,y):\n",
    "        self.x=x\n",
    "        self.y=y\n",
    "    def add(self):\n",
    "        return self.x + self.y\n",
    "    def subtract(self):\n",
    "        return self.x - self.y"
   ]
  },
  {
   "cell_type": "code",
   "execution_count": null,
   "id": "bf776e36-2519-42f9-ad4e-43b2273e0e6a",
   "metadata": {},
   "outputs": [],
   "source": []
  },
  {
   "cell_type": "markdown",
   "id": "a4917de4-08f8-4f53-a164-cd030074079c",
   "metadata": {},
   "source": [
    "Q2. Name the four pillars of OOPs."
   ]
  },
  {
   "cell_type": "markdown",
   "id": "5cd43a8b-d0f1-4bc7-a448-41569b0ffe5a",
   "metadata": {},
   "source": [
    "1).Inheriyance\n",
    "2).Polymorphism\n",
    "3).Encapsulation\n",
    "4).Abstraction"
   ]
  },
  {
   "cell_type": "code",
   "execution_count": null,
   "id": "a33bc03d-f756-4e60-b0eb-6ba9efbc1f92",
   "metadata": {},
   "outputs": [],
   "source": []
  },
  {
   "cell_type": "markdown",
   "id": "3c7d7589-5142-4106-9277-1f28ccc0b484",
   "metadata": {},
   "source": [
    "Q3. Explain why the __init__() function is used. Give a suitable example."
   ]
  },
  {
   "cell_type": "markdown",
   "id": "d7ef9f0e-45a2-46a0-b4a4-0bb59e30fa9c",
   "metadata": {},
   "source": [
    "__init__ is a special python method that runs whenever a new object is created. These types of functions are used to initialize the attributes of that class, E.g., if the class is Person, then the attributes will be name, age, etc."
   ]
  },
  {
   "cell_type": "code",
   "execution_count": 2,
   "id": "9268ae5c-69b6-454b-91fd-65368dd97e89",
   "metadata": {},
   "outputs": [
    {
     "name": "stdout",
     "output_type": "stream",
     "text": [
      "From: London\n",
      "To_city: India\n"
     ]
    }
   ],
   "source": [
    "class Trip:\n",
    "    def __init__(self, to_city, from_city):\n",
    "        self.to_city = to_city\n",
    "        self.from_city = from_city\n",
    " \n",
    "    def holiday(self):\n",
    "     return (\"From: \" + self.from_city + \"\\nTo_city: \" + self.to_city)\n",
    " \n",
    "T = Trip('India', 'London')\n",
    "print(T.holiday())"
   ]
  },
  {
   "cell_type": "code",
   "execution_count": null,
   "id": "d534a5a7-c4c3-4cfd-b955-6e2e904024d5",
   "metadata": {},
   "outputs": [],
   "source": []
  },
  {
   "cell_type": "markdown",
   "id": "73f31c26-a24c-481d-a58e-5e78ecdd52c3",
   "metadata": {},
   "source": [
    "Q4. Why self is used in OOPs?"
   ]
  },
  {
   "cell_type": "markdown",
   "id": "e08d4bf1-4240-4fe7-8a47-887c5066d5bb",
   "metadata": {},
   "source": [
    "The self variable is used to represent the instance of the class which is often used in object-oriented programming. It works as a reference to the object. Python uses the self parameter to refer to instance attributes and methods of the class."
   ]
  },
  {
   "cell_type": "code",
   "execution_count": null,
   "id": "91795af9-df57-4662-98fe-b83e9f34d1b8",
   "metadata": {},
   "outputs": [],
   "source": []
  },
  {
   "cell_type": "markdown",
   "id": "a985ed6d-8dbf-41fa-b126-a0c8d37d6d5e",
   "metadata": {},
   "source": [
    "Q5. What is inheritance? Give an example for each type of inheritance."
   ]
  },
  {
   "cell_type": "markdown",
   "id": "cdd8ee95-c0e5-4ff2-8212-3c302b4e12e0",
   "metadata": {},
   "source": [
    "Inheritance allows us to define a class that inherits all the methods and properties from another class."
   ]
  },
  {
   "cell_type": "code",
   "execution_count": 3,
   "id": "9e0cf91d-aeb1-4eea-a3f7-08851ca0a447",
   "metadata": {},
   "outputs": [
    {
     "name": "stdout",
     "output_type": "stream",
     "text": [
      "JOhn Doe\n"
     ]
    }
   ],
   "source": [
    "class Person:\n",
    "    def __init__(self,fname,lname):\n",
    "        self.firstname=fname\n",
    "        self.lastname=lname\n",
    "        \n",
    "    def printname(self):\n",
    "        print(self.firstname,self.lastname)\n",
    "        \n",
    "x=Person(\"JOhn\",\"Doe\")\n",
    "x.printname()"
   ]
  },
  {
   "cell_type": "code",
   "execution_count": null,
   "id": "617b7b63-afbd-4671-a027-9e4c379e7f64",
   "metadata": {},
   "outputs": [],
   "source": []
  }
 ],
 "metadata": {
  "kernelspec": {
   "display_name": "Python 3 (ipykernel)",
   "language": "python",
   "name": "python3"
  },
  "language_info": {
   "codemirror_mode": {
    "name": "ipython",
    "version": 3
   },
   "file_extension": ".py",
   "mimetype": "text/x-python",
   "name": "python",
   "nbconvert_exporter": "python",
   "pygments_lexer": "ipython3",
   "version": "3.10.8"
  }
 },
 "nbformat": 4,
 "nbformat_minor": 5
}
